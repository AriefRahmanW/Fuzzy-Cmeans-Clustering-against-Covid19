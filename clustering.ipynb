{
 "cells": [
  {
   "cell_type": "markdown",
   "metadata": {},
   "source": [
    "## Fuzzy C-Means Clustering"
   ]
  },
  {
   "cell_type": "code",
   "execution_count": 1,
   "metadata": {},
   "outputs": [],
   "source": [
    "import pandas as pd\n",
    "import numpy as np"
   ]
  },
  {
   "cell_type": "code",
   "execution_count": 2,
   "metadata": {},
   "outputs": [],
   "source": [
    "df = pd.read_csv(\"country_wise_latest.csv\")"
   ]
  },
  {
   "cell_type": "code",
   "execution_count": 3,
   "metadata": {},
   "outputs": [
    {
     "output_type": "execute_result",
     "data": {
      "text/plain": [
       "  Country/Region  Confirmed  Deaths  Recovered  Active  New cases  New deaths  \\\n",
       "0    Afghanistan      36263    1269      25198    9796        106          10   \n",
       "1        Albania       4880     144       2745    1991        117           6   \n",
       "2        Algeria      27973    1163      18837    7973        616           8   \n",
       "3        Andorra        907      52        803      52         10           0   \n",
       "4         Angola        950      41        242     667         18           1   \n",
       "\n",
       "   New recovered  Deaths / 100 Cases  Recovered / 100 Cases  \\\n",
       "0             18                3.50                  69.49   \n",
       "1             63                2.95                  56.25   \n",
       "2            749                4.16                  67.34   \n",
       "3              0                5.73                  88.53   \n",
       "4              0                4.32                  25.47   \n",
       "\n",
       "   Deaths / 100 Recovered  Confirmed last week  1 week change  \\\n",
       "0                    5.04                35526            737   \n",
       "1                    5.25                 4171            709   \n",
       "2                    6.17                23691           4282   \n",
       "3                    6.48                  884             23   \n",
       "4                   16.94                  749            201   \n",
       "\n",
       "   1 week % increase             WHO Region  \n",
       "0               2.07  Eastern Mediterranean  \n",
       "1              17.00                 Europe  \n",
       "2              18.07                 Africa  \n",
       "3               2.60                 Europe  \n",
       "4              26.84                 Africa  "
      ],
      "text/html": "<div>\n<style scoped>\n    .dataframe tbody tr th:only-of-type {\n        vertical-align: middle;\n    }\n\n    .dataframe tbody tr th {\n        vertical-align: top;\n    }\n\n    .dataframe thead th {\n        text-align: right;\n    }\n</style>\n<table border=\"1\" class=\"dataframe\">\n  <thead>\n    <tr style=\"text-align: right;\">\n      <th></th>\n      <th>Country/Region</th>\n      <th>Confirmed</th>\n      <th>Deaths</th>\n      <th>Recovered</th>\n      <th>Active</th>\n      <th>New cases</th>\n      <th>New deaths</th>\n      <th>New recovered</th>\n      <th>Deaths / 100 Cases</th>\n      <th>Recovered / 100 Cases</th>\n      <th>Deaths / 100 Recovered</th>\n      <th>Confirmed last week</th>\n      <th>1 week change</th>\n      <th>1 week % increase</th>\n      <th>WHO Region</th>\n    </tr>\n  </thead>\n  <tbody>\n    <tr>\n      <th>0</th>\n      <td>Afghanistan</td>\n      <td>36263</td>\n      <td>1269</td>\n      <td>25198</td>\n      <td>9796</td>\n      <td>106</td>\n      <td>10</td>\n      <td>18</td>\n      <td>3.50</td>\n      <td>69.49</td>\n      <td>5.04</td>\n      <td>35526</td>\n      <td>737</td>\n      <td>2.07</td>\n      <td>Eastern Mediterranean</td>\n    </tr>\n    <tr>\n      <th>1</th>\n      <td>Albania</td>\n      <td>4880</td>\n      <td>144</td>\n      <td>2745</td>\n      <td>1991</td>\n      <td>117</td>\n      <td>6</td>\n      <td>63</td>\n      <td>2.95</td>\n      <td>56.25</td>\n      <td>5.25</td>\n      <td>4171</td>\n      <td>709</td>\n      <td>17.00</td>\n      <td>Europe</td>\n    </tr>\n    <tr>\n      <th>2</th>\n      <td>Algeria</td>\n      <td>27973</td>\n      <td>1163</td>\n      <td>18837</td>\n      <td>7973</td>\n      <td>616</td>\n      <td>8</td>\n      <td>749</td>\n      <td>4.16</td>\n      <td>67.34</td>\n      <td>6.17</td>\n      <td>23691</td>\n      <td>4282</td>\n      <td>18.07</td>\n      <td>Africa</td>\n    </tr>\n    <tr>\n      <th>3</th>\n      <td>Andorra</td>\n      <td>907</td>\n      <td>52</td>\n      <td>803</td>\n      <td>52</td>\n      <td>10</td>\n      <td>0</td>\n      <td>0</td>\n      <td>5.73</td>\n      <td>88.53</td>\n      <td>6.48</td>\n      <td>884</td>\n      <td>23</td>\n      <td>2.60</td>\n      <td>Europe</td>\n    </tr>\n    <tr>\n      <th>4</th>\n      <td>Angola</td>\n      <td>950</td>\n      <td>41</td>\n      <td>242</td>\n      <td>667</td>\n      <td>18</td>\n      <td>1</td>\n      <td>0</td>\n      <td>4.32</td>\n      <td>25.47</td>\n      <td>16.94</td>\n      <td>749</td>\n      <td>201</td>\n      <td>26.84</td>\n      <td>Africa</td>\n    </tr>\n  </tbody>\n</table>\n</div>"
     },
     "metadata": {},
     "execution_count": 3
    }
   ],
   "source": [
    "df.head()"
   ]
  },
  {
   "cell_type": "markdown",
   "metadata": {},
   "source": [
    "#### Initial Variable"
   ]
  },
  {
   "cell_type": "code",
   "execution_count": 4,
   "metadata": {},
   "outputs": [],
   "source": [
    "MAX_CLUSTER = 5\n",
    "MAX_ITERATION = 100\n",
    "MIN_ERROR = 0.00001\n",
    "FIRST_ITERATION = 1"
   ]
  },
  {
   "cell_type": "code",
   "execution_count": 5,
   "metadata": {},
   "outputs": [],
   "source": [
    "def train_data(cols: list):\n",
    "    return df[cols]"
   ]
  },
  {
   "cell_type": "code",
   "execution_count": 6,
   "metadata": {},
   "outputs": [],
   "source": [
    "def create_random(rows, max_cluster):\n",
    "    np.random.seed(0)\n",
    "    return np.random.dirichlet(np.ones(max_cluster),size=rows)"
   ]
  },
  {
   "cell_type": "markdown",
   "metadata": {},
   "source": [
    "### Select Data for Clustering"
   ]
  },
  {
   "cell_type": "code",
   "execution_count": 7,
   "metadata": {},
   "outputs": [],
   "source": [
    "label = \"Country/Region\"\n",
    "columns = [\"New cases\", \"New deaths\", \"New recovered\"]\n",
    "train_data = df[columns]"
   ]
  },
  {
   "cell_type": "code",
   "execution_count": 8,
   "metadata": {},
   "outputs": [],
   "source": [
    "c_df = pd.DataFrame(create_random(len(train_data), MAX_CLUSTER))"
   ]
  },
  {
   "cell_type": "code",
   "execution_count": 9,
   "metadata": {},
   "outputs": [],
   "source": [
    "c_colname = [\"C\" + str(i + 1) for i in range(MAX_CLUSTER)]\n",
    "x_colname = [\"X\" + str(i + 1) for i in range(len(columns))]\n",
    "v_colname = [\"V\" + str(i + 1) for i in range(MAX_CLUSTER)]\n",
    "l_colname = [\"L\" + str(i + 1) for i in range(MAX_CLUSTER)]\n",
    "cluster_name = [\"CLUSTER_\" + str(i + 1) for i in range(MAX_CLUSTER)]"
   ]
  },
  {
   "cell_type": "markdown",
   "metadata": {},
   "source": [
    "#### Random Number"
   ]
  },
  {
   "cell_type": "code",
   "execution_count": 10,
   "metadata": {},
   "outputs": [
    {
     "output_type": "execute_result",
     "data": {
      "text/plain": [
       "         C1        C2        C3        C4        C5\n",
       "0  0.184517  0.291178  0.214042  0.182506  0.127756\n",
       "1  0.135961  0.075372  0.291200  0.434132  0.063334\n",
       "2  0.268972  0.129038  0.143912  0.445445  0.012633\n",
       "3  0.016742  0.003751  0.328270  0.276536  0.374701\n",
       "4  0.498615  0.208154  0.080257  0.196651  0.016322"
      ],
      "text/html": "<div>\n<style scoped>\n    .dataframe tbody tr th:only-of-type {\n        vertical-align: middle;\n    }\n\n    .dataframe tbody tr th {\n        vertical-align: top;\n    }\n\n    .dataframe thead th {\n        text-align: right;\n    }\n</style>\n<table border=\"1\" class=\"dataframe\">\n  <thead>\n    <tr style=\"text-align: right;\">\n      <th></th>\n      <th>C1</th>\n      <th>C2</th>\n      <th>C3</th>\n      <th>C4</th>\n      <th>C5</th>\n    </tr>\n  </thead>\n  <tbody>\n    <tr>\n      <th>0</th>\n      <td>0.184517</td>\n      <td>0.291178</td>\n      <td>0.214042</td>\n      <td>0.182506</td>\n      <td>0.127756</td>\n    </tr>\n    <tr>\n      <th>1</th>\n      <td>0.135961</td>\n      <td>0.075372</td>\n      <td>0.291200</td>\n      <td>0.434132</td>\n      <td>0.063334</td>\n    </tr>\n    <tr>\n      <th>2</th>\n      <td>0.268972</td>\n      <td>0.129038</td>\n      <td>0.143912</td>\n      <td>0.445445</td>\n      <td>0.012633</td>\n    </tr>\n    <tr>\n      <th>3</th>\n      <td>0.016742</td>\n      <td>0.003751</td>\n      <td>0.328270</td>\n      <td>0.276536</td>\n      <td>0.374701</td>\n    </tr>\n    <tr>\n      <th>4</th>\n      <td>0.498615</td>\n      <td>0.208154</td>\n      <td>0.080257</td>\n      <td>0.196651</td>\n      <td>0.016322</td>\n    </tr>\n  </tbody>\n</table>\n</div>"
     },
     "metadata": {},
     "execution_count": 10
    }
   ],
   "source": [
    "c_df.columns = c_colname\n",
    "train_data.columns = x_colname\n",
    "c_df.head()"
   ]
  },
  {
   "cell_type": "code",
   "execution_count": 11,
   "metadata": {},
   "outputs": [],
   "source": [
    "result = pd.DataFrame()\n",
    "result[\"label\"] = df[label]\n",
    "for i, c in enumerate(c_colname):\n",
    "    result[cluster_name[i]] = np.where(c_df[c] == c_df.max(axis=1), \"1\", \"\")"
   ]
  },
  {
   "cell_type": "code",
   "execution_count": 12,
   "metadata": {},
   "outputs": [
    {
     "output_type": "execute_result",
     "data": {
      "text/plain": [
       "                                label CLUSTER_1 CLUSTER_2 CLUSTER_3 CLUSTER_4  \\\n",
       "0                         Afghanistan                   1                       \n",
       "1                             Albania                                       1   \n",
       "2                             Algeria                                       1   \n",
       "3                             Andorra                                           \n",
       "4                              Angola         1                                 \n",
       "5                 Antigua and Barbuda                             1             \n",
       "6                           Argentina                   1                       \n",
       "7                             Armenia                                       1   \n",
       "8                           Australia                             1             \n",
       "9                             Austria         1                                 \n",
       "10                         Azerbaijan                             1             \n",
       "11                            Bahamas                   1                       \n",
       "12                            Bahrain                             1             \n",
       "13                         Bangladesh                                       1   \n",
       "14                           Barbados                             1             \n",
       "15                            Belarus                                       1   \n",
       "16                            Belgium                                       1   \n",
       "17                             Belize                                           \n",
       "18                              Benin                                       1   \n",
       "19                             Bhutan                                       1   \n",
       "20                            Bolivia                                       1   \n",
       "21             Bosnia and Herzegovina                                           \n",
       "22                           Botswana                   1                       \n",
       "23                             Brazil                                       1   \n",
       "24                             Brunei                             1             \n",
       "25                           Bulgaria                                       1   \n",
       "26                       Burkina Faso         1                                 \n",
       "27                              Burma                             1             \n",
       "28                            Burundi         1                                 \n",
       "29                         Cabo Verde                                           \n",
       "30                           Cambodia                   1                       \n",
       "31                           Cameroon         1                                 \n",
       "32                             Canada                                           \n",
       "33           Central African Republic         1                                 \n",
       "34                               Chad                                           \n",
       "35                              Chile                             1             \n",
       "36                              China                                           \n",
       "37                           Colombia                                       1   \n",
       "38                            Comoros                                       1   \n",
       "39                Congo (Brazzaville)         1                                 \n",
       "40                   Congo (Kinshasa)                   1                       \n",
       "41                         Costa Rica                                           \n",
       "42                      Cote d'Ivoire         1                                 \n",
       "43                            Croatia                                           \n",
       "44                               Cuba                   1                       \n",
       "45                             Cyprus         1                                 \n",
       "46                            Czechia                             1             \n",
       "47                            Denmark                                           \n",
       "48                           Djibouti         1                                 \n",
       "49                           Dominica                   1                       \n",
       "50                 Dominican Republic                   1                       \n",
       "51                            Ecuador                                       1   \n",
       "52                              Egypt                                       1   \n",
       "53                        El Salvador         1                                 \n",
       "54                  Equatorial Guinea         1                                 \n",
       "55                            Eritrea         1                                 \n",
       "56                            Estonia                   1                       \n",
       "57                           Eswatini                   1                       \n",
       "58                           Ethiopia                             1             \n",
       "59                               Fiji                                       1   \n",
       "60                            Finland         1                                 \n",
       "61                             France                                       1   \n",
       "62                              Gabon         1                                 \n",
       "63                             Gambia                                       1   \n",
       "64                            Georgia                                       1   \n",
       "65                            Germany                             1             \n",
       "66                              Ghana                   1                       \n",
       "67                             Greece         1                                 \n",
       "68                          Greenland                                           \n",
       "69                            Grenada                                           \n",
       "70                          Guatemala         1                                 \n",
       "71                             Guinea                                           \n",
       "72                      Guinea-Bissau                   1                       \n",
       "73                             Guyana                                       1   \n",
       "74                              Haiti                             1             \n",
       "75                           Holy See                             1             \n",
       "76                           Honduras                             1             \n",
       "77                            Hungary         1                                 \n",
       "78                            Iceland                                       1   \n",
       "79                              India         1                                 \n",
       "80                          Indonesia                                       1   \n",
       "81                               Iran                                       1   \n",
       "82                               Iraq                   1                       \n",
       "83                            Ireland                                           \n",
       "84                             Israel                   1                       \n",
       "85                              Italy                   1                       \n",
       "86                            Jamaica                                       1   \n",
       "87                              Japan                                       1   \n",
       "88                             Jordan                             1             \n",
       "89                         Kazakhstan                             1             \n",
       "90                              Kenya                   1                       \n",
       "91                             Kosovo                                           \n",
       "92                             Kuwait                                       1   \n",
       "93                         Kyrgyzstan                                       1   \n",
       "94                               Laos                   1                       \n",
       "95                             Latvia                                       1   \n",
       "96                            Lebanon                                       1   \n",
       "97                            Lesotho                                       1   \n",
       "98                            Liberia                             1             \n",
       "99                              Libya                                           \n",
       "100                     Liechtenstein                                       1   \n",
       "101                         Lithuania         1                                 \n",
       "102                        Luxembourg                             1             \n",
       "103                        Madagascar                                           \n",
       "104                            Malawi                                       1   \n",
       "105                          Malaysia                             1             \n",
       "106                          Maldives                             1             \n",
       "107                              Mali                                           \n",
       "108                             Malta                                           \n",
       "109                        Mauritania                             1             \n",
       "110                         Mauritius         1                                 \n",
       "111                            Mexico                                           \n",
       "112                           Moldova                             1             \n",
       "113                            Monaco                                           \n",
       "114                          Mongolia                                           \n",
       "115                        Montenegro                                           \n",
       "116                           Morocco                                           \n",
       "117                        Mozambique                                           \n",
       "118                           Namibia                   1                       \n",
       "119                             Nepal         1                                 \n",
       "120                       Netherlands                             1             \n",
       "121                       New Zealand                                       1   \n",
       "122                         Nicaragua                             1             \n",
       "123                             Niger                                           \n",
       "124                           Nigeria                                           \n",
       "125                   North Macedonia         1                                 \n",
       "126                            Norway                                           \n",
       "127                              Oman         1                                 \n",
       "128                          Pakistan                             1             \n",
       "129                            Panama                                       1   \n",
       "130                  Papua New Guinea                                           \n",
       "131                          Paraguay                                           \n",
       "132                              Peru                   1                       \n",
       "133                       Philippines                                       1   \n",
       "134                            Poland                                           \n",
       "135                          Portugal                   1                       \n",
       "136                             Qatar                                       1   \n",
       "137                           Romania                                       1   \n",
       "138                            Russia         1                                 \n",
       "139                            Rwanda                                           \n",
       "140             Saint Kitts and Nevis         1                                 \n",
       "141                       Saint Lucia                                           \n",
       "142  Saint Vincent and the Grenadines                             1             \n",
       "143                        San Marino                                           \n",
       "144             Sao Tome and Principe                   1                       \n",
       "145                      Saudi Arabia                             1             \n",
       "146                           Senegal         1                                 \n",
       "147                            Serbia         1                                 \n",
       "148                        Seychelles                   1                       \n",
       "149                      Sierra Leone                                       1   \n",
       "150                         Singapore                             1             \n",
       "151                          Slovakia         1                                 \n",
       "152                          Slovenia                                           \n",
       "153                           Somalia                   1                       \n",
       "154                      South Africa                                           \n",
       "155                       South Korea                                           \n",
       "156                       South Sudan                             1             \n",
       "157                             Spain                                       1   \n",
       "158                         Sri Lanka                                           \n",
       "159                             Sudan         1                                 \n",
       "160                          Suriname                                           \n",
       "161                            Sweden                   1                       \n",
       "162                       Switzerland                                       1   \n",
       "163                             Syria                                       1   \n",
       "164                           Taiwan*         1                                 \n",
       "165                        Tajikistan         1                                 \n",
       "166                          Tanzania                                           \n",
       "167                          Thailand                   1                       \n",
       "168                       Timor-Leste                                       1   \n",
       "169                              Togo         1                                 \n",
       "170               Trinidad and Tobago                                           \n",
       "171                           Tunisia         1                                 \n",
       "172                            Turkey         1                                 \n",
       "173                                US         1                                 \n",
       "174                            Uganda         1                                 \n",
       "175                           Ukraine                                       1   \n",
       "176              United Arab Emirates                                           \n",
       "177                    United Kingdom                                           \n",
       "178                           Uruguay                                           \n",
       "179                        Uzbekistan                   1                       \n",
       "180                         Venezuela                                           \n",
       "181                           Vietnam         1                                 \n",
       "182                West Bank and Gaza                             1             \n",
       "183                    Western Sahara                                       1   \n",
       "184                             Yemen                                       1   \n",
       "185                            Zambia         1                                 \n",
       "186                          Zimbabwe         1                                 \n",
       "\n",
       "    CLUSTER_5  \n",
       "0              \n",
       "1              \n",
       "2              \n",
       "3           1  \n",
       "4              \n",
       "5              \n",
       "6              \n",
       "7              \n",
       "8              \n",
       "9              \n",
       "10             \n",
       "11             \n",
       "12             \n",
       "13             \n",
       "14             \n",
       "15             \n",
       "16             \n",
       "17          1  \n",
       "18             \n",
       "19             \n",
       "20             \n",
       "21          1  \n",
       "22             \n",
       "23             \n",
       "24             \n",
       "25             \n",
       "26             \n",
       "27             \n",
       "28             \n",
       "29          1  \n",
       "30             \n",
       "31             \n",
       "32          1  \n",
       "33             \n",
       "34          1  \n",
       "35             \n",
       "36          1  \n",
       "37             \n",
       "38             \n",
       "39             \n",
       "40             \n",
       "41          1  \n",
       "42             \n",
       "43          1  \n",
       "44             \n",
       "45             \n",
       "46             \n",
       "47          1  \n",
       "48             \n",
       "49             \n",
       "50             \n",
       "51             \n",
       "52             \n",
       "53             \n",
       "54             \n",
       "55             \n",
       "56             \n",
       "57             \n",
       "58             \n",
       "59             \n",
       "60             \n",
       "61             \n",
       "62             \n",
       "63             \n",
       "64             \n",
       "65             \n",
       "66             \n",
       "67             \n",
       "68          1  \n",
       "69          1  \n",
       "70             \n",
       "71          1  \n",
       "72             \n",
       "73             \n",
       "74             \n",
       "75             \n",
       "76             \n",
       "77             \n",
       "78             \n",
       "79             \n",
       "80             \n",
       "81             \n",
       "82             \n",
       "83          1  \n",
       "84             \n",
       "85             \n",
       "86             \n",
       "87             \n",
       "88             \n",
       "89             \n",
       "90             \n",
       "91          1  \n",
       "92             \n",
       "93             \n",
       "94             \n",
       "95             \n",
       "96             \n",
       "97             \n",
       "98             \n",
       "99          1  \n",
       "100            \n",
       "101            \n",
       "102            \n",
       "103         1  \n",
       "104            \n",
       "105            \n",
       "106            \n",
       "107         1  \n",
       "108         1  \n",
       "109            \n",
       "110            \n",
       "111         1  \n",
       "112            \n",
       "113         1  \n",
       "114         1  \n",
       "115         1  \n",
       "116         1  \n",
       "117         1  \n",
       "118            \n",
       "119            \n",
       "120            \n",
       "121            \n",
       "122            \n",
       "123         1  \n",
       "124         1  \n",
       "125            \n",
       "126         1  \n",
       "127            \n",
       "128            \n",
       "129            \n",
       "130         1  \n",
       "131         1  \n",
       "132            \n",
       "133            \n",
       "134         1  \n",
       "135            \n",
       "136            \n",
       "137            \n",
       "138            \n",
       "139         1  \n",
       "140            \n",
       "141         1  \n",
       "142            \n",
       "143         1  \n",
       "144            \n",
       "145            \n",
       "146            \n",
       "147            \n",
       "148            \n",
       "149            \n",
       "150            \n",
       "151            \n",
       "152         1  \n",
       "153            \n",
       "154         1  \n",
       "155         1  \n",
       "156            \n",
       "157            \n",
       "158         1  \n",
       "159            \n",
       "160         1  \n",
       "161            \n",
       "162            \n",
       "163            \n",
       "164            \n",
       "165            \n",
       "166         1  \n",
       "167            \n",
       "168            \n",
       "169            \n",
       "170         1  \n",
       "171            \n",
       "172            \n",
       "173            \n",
       "174            \n",
       "175            \n",
       "176         1  \n",
       "177         1  \n",
       "178         1  \n",
       "179            \n",
       "180         1  \n",
       "181            \n",
       "182            \n",
       "183            \n",
       "184            \n",
       "185            \n",
       "186            "
      ],
      "text/html": "<div>\n<style scoped>\n    .dataframe tbody tr th:only-of-type {\n        vertical-align: middle;\n    }\n\n    .dataframe tbody tr th {\n        vertical-align: top;\n    }\n\n    .dataframe thead th {\n        text-align: right;\n    }\n</style>\n<table border=\"1\" class=\"dataframe\">\n  <thead>\n    <tr style=\"text-align: right;\">\n      <th></th>\n      <th>label</th>\n      <th>CLUSTER_1</th>\n      <th>CLUSTER_2</th>\n      <th>CLUSTER_3</th>\n      <th>CLUSTER_4</th>\n      <th>CLUSTER_5</th>\n    </tr>\n  </thead>\n  <tbody>\n    <tr>\n      <th>0</th>\n      <td>Afghanistan</td>\n      <td></td>\n      <td>1</td>\n      <td></td>\n      <td></td>\n      <td></td>\n    </tr>\n    <tr>\n      <th>1</th>\n      <td>Albania</td>\n      <td></td>\n      <td></td>\n      <td></td>\n      <td>1</td>\n      <td></td>\n    </tr>\n    <tr>\n      <th>2</th>\n      <td>Algeria</td>\n      <td></td>\n      <td></td>\n      <td></td>\n      <td>1</td>\n      <td></td>\n    </tr>\n    <tr>\n      <th>3</th>\n      <td>Andorra</td>\n      <td></td>\n      <td></td>\n      <td></td>\n      <td></td>\n      <td>1</td>\n    </tr>\n    <tr>\n      <th>4</th>\n      <td>Angola</td>\n      <td>1</td>\n      <td></td>\n      <td></td>\n      <td></td>\n      <td></td>\n    </tr>\n    <tr>\n      <th>5</th>\n      <td>Antigua and Barbuda</td>\n      <td></td>\n      <td></td>\n      <td>1</td>\n      <td></td>\n      <td></td>\n    </tr>\n    <tr>\n      <th>6</th>\n      <td>Argentina</td>\n      <td></td>\n      <td>1</td>\n      <td></td>\n      <td></td>\n      <td></td>\n    </tr>\n    <tr>\n      <th>7</th>\n      <td>Armenia</td>\n      <td></td>\n      <td></td>\n      <td></td>\n      <td>1</td>\n      <td></td>\n    </tr>\n    <tr>\n      <th>8</th>\n      <td>Australia</td>\n      <td></td>\n      <td></td>\n      <td>1</td>\n      <td></td>\n      <td></td>\n    </tr>\n    <tr>\n      <th>9</th>\n      <td>Austria</td>\n      <td>1</td>\n      <td></td>\n      <td></td>\n      <td></td>\n      <td></td>\n    </tr>\n    <tr>\n      <th>10</th>\n      <td>Azerbaijan</td>\n      <td></td>\n      <td></td>\n      <td>1</td>\n      <td></td>\n      <td></td>\n    </tr>\n    <tr>\n      <th>11</th>\n      <td>Bahamas</td>\n      <td></td>\n      <td>1</td>\n      <td></td>\n      <td></td>\n      <td></td>\n    </tr>\n    <tr>\n      <th>12</th>\n      <td>Bahrain</td>\n      <td></td>\n      <td></td>\n      <td>1</td>\n      <td></td>\n      <td></td>\n    </tr>\n    <tr>\n      <th>13</th>\n      <td>Bangladesh</td>\n      <td></td>\n      <td></td>\n      <td></td>\n      <td>1</td>\n      <td></td>\n    </tr>\n    <tr>\n      <th>14</th>\n      <td>Barbados</td>\n      <td></td>\n      <td></td>\n      <td>1</td>\n      <td></td>\n      <td></td>\n    </tr>\n    <tr>\n      <th>15</th>\n      <td>Belarus</td>\n      <td></td>\n      <td></td>\n      <td></td>\n      <td>1</td>\n      <td></td>\n    </tr>\n    <tr>\n      <th>16</th>\n      <td>Belgium</td>\n      <td></td>\n      <td></td>\n      <td></td>\n      <td>1</td>\n      <td></td>\n    </tr>\n    <tr>\n      <th>17</th>\n      <td>Belize</td>\n      <td></td>\n      <td></td>\n      <td></td>\n      <td></td>\n      <td>1</td>\n    </tr>\n    <tr>\n      <th>18</th>\n      <td>Benin</td>\n      <td></td>\n      <td></td>\n      <td></td>\n      <td>1</td>\n      <td></td>\n    </tr>\n    <tr>\n      <th>19</th>\n      <td>Bhutan</td>\n      <td></td>\n      <td></td>\n      <td></td>\n      <td>1</td>\n      <td></td>\n    </tr>\n    <tr>\n      <th>20</th>\n      <td>Bolivia</td>\n      <td></td>\n      <td></td>\n      <td></td>\n      <td>1</td>\n      <td></td>\n    </tr>\n    <tr>\n      <th>21</th>\n      <td>Bosnia and Herzegovina</td>\n      <td></td>\n      <td></td>\n      <td></td>\n      <td></td>\n      <td>1</td>\n    </tr>\n    <tr>\n      <th>22</th>\n      <td>Botswana</td>\n      <td></td>\n      <td>1</td>\n      <td></td>\n      <td></td>\n      <td></td>\n    </tr>\n    <tr>\n      <th>23</th>\n      <td>Brazil</td>\n      <td></td>\n      <td></td>\n      <td></td>\n      <td>1</td>\n      <td></td>\n    </tr>\n    <tr>\n      <th>24</th>\n      <td>Brunei</td>\n      <td></td>\n      <td></td>\n      <td>1</td>\n      <td></td>\n      <td></td>\n    </tr>\n    <tr>\n      <th>25</th>\n      <td>Bulgaria</td>\n      <td></td>\n      <td></td>\n      <td></td>\n      <td>1</td>\n      <td></td>\n    </tr>\n    <tr>\n      <th>26</th>\n      <td>Burkina Faso</td>\n      <td>1</td>\n      <td></td>\n      <td></td>\n      <td></td>\n      <td></td>\n    </tr>\n    <tr>\n      <th>27</th>\n      <td>Burma</td>\n      <td></td>\n      <td></td>\n      <td>1</td>\n      <td></td>\n      <td></td>\n    </tr>\n    <tr>\n      <th>28</th>\n      <td>Burundi</td>\n      <td>1</td>\n      <td></td>\n      <td></td>\n      <td></td>\n      <td></td>\n    </tr>\n    <tr>\n      <th>29</th>\n      <td>Cabo Verde</td>\n      <td></td>\n      <td></td>\n      <td></td>\n      <td></td>\n      <td>1</td>\n    </tr>\n    <tr>\n      <th>30</th>\n      <td>Cambodia</td>\n      <td></td>\n      <td>1</td>\n      <td></td>\n      <td></td>\n      <td></td>\n    </tr>\n    <tr>\n      <th>31</th>\n      <td>Cameroon</td>\n      <td>1</td>\n      <td></td>\n      <td></td>\n      <td></td>\n      <td></td>\n    </tr>\n    <tr>\n      <th>32</th>\n      <td>Canada</td>\n      <td></td>\n      <td></td>\n      <td></td>\n      <td></td>\n      <td>1</td>\n    </tr>\n    <tr>\n      <th>33</th>\n      <td>Central African Republic</td>\n      <td>1</td>\n      <td></td>\n      <td></td>\n      <td></td>\n      <td></td>\n    </tr>\n    <tr>\n      <th>34</th>\n      <td>Chad</td>\n      <td></td>\n      <td></td>\n      <td></td>\n      <td></td>\n      <td>1</td>\n    </tr>\n    <tr>\n      <th>35</th>\n      <td>Chile</td>\n      <td></td>\n      <td></td>\n      <td>1</td>\n      <td></td>\n      <td></td>\n    </tr>\n    <tr>\n      <th>36</th>\n      <td>China</td>\n      <td></td>\n      <td></td>\n      <td></td>\n      <td></td>\n      <td>1</td>\n    </tr>\n    <tr>\n      <th>37</th>\n      <td>Colombia</td>\n      <td></td>\n      <td></td>\n      <td></td>\n      <td>1</td>\n      <td></td>\n    </tr>\n    <tr>\n      <th>38</th>\n      <td>Comoros</td>\n      <td></td>\n      <td></td>\n      <td></td>\n      <td>1</td>\n      <td></td>\n    </tr>\n    <tr>\n      <th>39</th>\n      <td>Congo (Brazzaville)</td>\n      <td>1</td>\n      <td></td>\n      <td></td>\n      <td></td>\n      <td></td>\n    </tr>\n    <tr>\n      <th>40</th>\n      <td>Congo (Kinshasa)</td>\n      <td></td>\n      <td>1</td>\n      <td></td>\n      <td></td>\n      <td></td>\n    </tr>\n    <tr>\n      <th>41</th>\n      <td>Costa Rica</td>\n      <td></td>\n      <td></td>\n      <td></td>\n      <td></td>\n      <td>1</td>\n    </tr>\n    <tr>\n      <th>42</th>\n      <td>Cote d'Ivoire</td>\n      <td>1</td>\n      <td></td>\n      <td></td>\n      <td></td>\n      <td></td>\n    </tr>\n    <tr>\n      <th>43</th>\n      <td>Croatia</td>\n      <td></td>\n      <td></td>\n      <td></td>\n      <td></td>\n      <td>1</td>\n    </tr>\n    <tr>\n      <th>44</th>\n      <td>Cuba</td>\n      <td></td>\n      <td>1</td>\n      <td></td>\n      <td></td>\n      <td></td>\n    </tr>\n    <tr>\n      <th>45</th>\n      <td>Cyprus</td>\n      <td>1</td>\n      <td></td>\n      <td></td>\n      <td></td>\n      <td></td>\n    </tr>\n    <tr>\n      <th>46</th>\n      <td>Czechia</td>\n      <td></td>\n      <td></td>\n      <td>1</td>\n      <td></td>\n      <td></td>\n    </tr>\n    <tr>\n      <th>47</th>\n      <td>Denmark</td>\n      <td></td>\n      <td></td>\n      <td></td>\n      <td></td>\n      <td>1</td>\n    </tr>\n    <tr>\n      <th>48</th>\n      <td>Djibouti</td>\n      <td>1</td>\n      <td></td>\n      <td></td>\n      <td></td>\n      <td></td>\n    </tr>\n    <tr>\n      <th>49</th>\n      <td>Dominica</td>\n      <td></td>\n      <td>1</td>\n      <td></td>\n      <td></td>\n      <td></td>\n    </tr>\n    <tr>\n      <th>50</th>\n      <td>Dominican Republic</td>\n      <td></td>\n      <td>1</td>\n      <td></td>\n      <td></td>\n      <td></td>\n    </tr>\n    <tr>\n      <th>51</th>\n      <td>Ecuador</td>\n      <td></td>\n      <td></td>\n      <td></td>\n      <td>1</td>\n      <td></td>\n    </tr>\n    <tr>\n      <th>52</th>\n      <td>Egypt</td>\n      <td></td>\n      <td></td>\n      <td></td>\n      <td>1</td>\n      <td></td>\n    </tr>\n    <tr>\n      <th>53</th>\n      <td>El Salvador</td>\n      <td>1</td>\n      <td></td>\n      <td></td>\n      <td></td>\n      <td></td>\n    </tr>\n    <tr>\n      <th>54</th>\n      <td>Equatorial Guinea</td>\n      <td>1</td>\n      <td></td>\n      <td></td>\n      <td></td>\n      <td></td>\n    </tr>\n    <tr>\n      <th>55</th>\n      <td>Eritrea</td>\n      <td>1</td>\n      <td></td>\n      <td></td>\n      <td></td>\n      <td></td>\n    </tr>\n    <tr>\n      <th>56</th>\n      <td>Estonia</td>\n      <td></td>\n      <td>1</td>\n      <td></td>\n      <td></td>\n      <td></td>\n    </tr>\n    <tr>\n      <th>57</th>\n      <td>Eswatini</td>\n      <td></td>\n      <td>1</td>\n      <td></td>\n      <td></td>\n      <td></td>\n    </tr>\n    <tr>\n      <th>58</th>\n      <td>Ethiopia</td>\n      <td></td>\n      <td></td>\n      <td>1</td>\n      <td></td>\n      <td></td>\n    </tr>\n    <tr>\n      <th>59</th>\n      <td>Fiji</td>\n      <td></td>\n      <td></td>\n      <td></td>\n      <td>1</td>\n      <td></td>\n    </tr>\n    <tr>\n      <th>60</th>\n      <td>Finland</td>\n      <td>1</td>\n      <td></td>\n      <td></td>\n      <td></td>\n      <td></td>\n    </tr>\n    <tr>\n      <th>61</th>\n      <td>France</td>\n      <td></td>\n      <td></td>\n      <td></td>\n      <td>1</td>\n      <td></td>\n    </tr>\n    <tr>\n      <th>62</th>\n      <td>Gabon</td>\n      <td>1</td>\n      <td></td>\n      <td></td>\n      <td></td>\n      <td></td>\n    </tr>\n    <tr>\n      <th>63</th>\n      <td>Gambia</td>\n      <td></td>\n      <td></td>\n      <td></td>\n      <td>1</td>\n      <td></td>\n    </tr>\n    <tr>\n      <th>64</th>\n      <td>Georgia</td>\n      <td></td>\n      <td></td>\n      <td></td>\n      <td>1</td>\n      <td></td>\n    </tr>\n    <tr>\n      <th>65</th>\n      <td>Germany</td>\n      <td></td>\n      <td></td>\n      <td>1</td>\n      <td></td>\n      <td></td>\n    </tr>\n    <tr>\n      <th>66</th>\n      <td>Ghana</td>\n      <td></td>\n      <td>1</td>\n      <td></td>\n      <td></td>\n      <td></td>\n    </tr>\n    <tr>\n      <th>67</th>\n      <td>Greece</td>\n      <td>1</td>\n      <td></td>\n      <td></td>\n      <td></td>\n      <td></td>\n    </tr>\n    <tr>\n      <th>68</th>\n      <td>Greenland</td>\n      <td></td>\n      <td></td>\n      <td></td>\n      <td></td>\n      <td>1</td>\n    </tr>\n    <tr>\n      <th>69</th>\n      <td>Grenada</td>\n      <td></td>\n      <td></td>\n      <td></td>\n      <td></td>\n      <td>1</td>\n    </tr>\n    <tr>\n      <th>70</th>\n      <td>Guatemala</td>\n      <td>1</td>\n      <td></td>\n      <td></td>\n      <td></td>\n      <td></td>\n    </tr>\n    <tr>\n      <th>71</th>\n      <td>Guinea</td>\n      <td></td>\n      <td></td>\n      <td></td>\n      <td></td>\n      <td>1</td>\n    </tr>\n    <tr>\n      <th>72</th>\n      <td>Guinea-Bissau</td>\n      <td></td>\n      <td>1</td>\n      <td></td>\n      <td></td>\n      <td></td>\n    </tr>\n    <tr>\n      <th>73</th>\n      <td>Guyana</td>\n      <td></td>\n      <td></td>\n      <td></td>\n      <td>1</td>\n      <td></td>\n    </tr>\n    <tr>\n      <th>74</th>\n      <td>Haiti</td>\n      <td></td>\n      <td></td>\n      <td>1</td>\n      <td></td>\n      <td></td>\n    </tr>\n    <tr>\n      <th>75</th>\n      <td>Holy See</td>\n      <td></td>\n      <td></td>\n      <td>1</td>\n      <td></td>\n      <td></td>\n    </tr>\n    <tr>\n      <th>76</th>\n      <td>Honduras</td>\n      <td></td>\n      <td></td>\n      <td>1</td>\n      <td></td>\n      <td></td>\n    </tr>\n    <tr>\n      <th>77</th>\n      <td>Hungary</td>\n      <td>1</td>\n      <td></td>\n      <td></td>\n      <td></td>\n      <td></td>\n    </tr>\n    <tr>\n      <th>78</th>\n      <td>Iceland</td>\n      <td></td>\n      <td></td>\n      <td></td>\n      <td>1</td>\n      <td></td>\n    </tr>\n    <tr>\n      <th>79</th>\n      <td>India</td>\n      <td>1</td>\n      <td></td>\n      <td></td>\n      <td></td>\n      <td></td>\n    </tr>\n    <tr>\n      <th>80</th>\n      <td>Indonesia</td>\n      <td></td>\n      <td></td>\n      <td></td>\n      <td>1</td>\n      <td></td>\n    </tr>\n    <tr>\n      <th>81</th>\n      <td>Iran</td>\n      <td></td>\n      <td></td>\n      <td></td>\n      <td>1</td>\n      <td></td>\n    </tr>\n    <tr>\n      <th>82</th>\n      <td>Iraq</td>\n      <td></td>\n      <td>1</td>\n      <td></td>\n      <td></td>\n      <td></td>\n    </tr>\n    <tr>\n      <th>83</th>\n      <td>Ireland</td>\n      <td></td>\n      <td></td>\n      <td></td>\n      <td></td>\n      <td>1</td>\n    </tr>\n    <tr>\n      <th>84</th>\n      <td>Israel</td>\n      <td></td>\n      <td>1</td>\n      <td></td>\n      <td></td>\n      <td></td>\n    </tr>\n    <tr>\n      <th>85</th>\n      <td>Italy</td>\n      <td></td>\n      <td>1</td>\n      <td></td>\n      <td></td>\n      <td></td>\n    </tr>\n    <tr>\n      <th>86</th>\n      <td>Jamaica</td>\n      <td></td>\n      <td></td>\n      <td></td>\n      <td>1</td>\n      <td></td>\n    </tr>\n    <tr>\n      <th>87</th>\n      <td>Japan</td>\n      <td></td>\n      <td></td>\n      <td></td>\n      <td>1</td>\n      <td></td>\n    </tr>\n    <tr>\n      <th>88</th>\n      <td>Jordan</td>\n      <td></td>\n      <td></td>\n      <td>1</td>\n      <td></td>\n      <td></td>\n    </tr>\n    <tr>\n      <th>89</th>\n      <td>Kazakhstan</td>\n      <td></td>\n      <td></td>\n      <td>1</td>\n      <td></td>\n      <td></td>\n    </tr>\n    <tr>\n      <th>90</th>\n      <td>Kenya</td>\n      <td></td>\n      <td>1</td>\n      <td></td>\n      <td></td>\n      <td></td>\n    </tr>\n    <tr>\n      <th>91</th>\n      <td>Kosovo</td>\n      <td></td>\n      <td></td>\n      <td></td>\n      <td></td>\n      <td>1</td>\n    </tr>\n    <tr>\n      <th>92</th>\n      <td>Kuwait</td>\n      <td></td>\n      <td></td>\n      <td></td>\n      <td>1</td>\n      <td></td>\n    </tr>\n    <tr>\n      <th>93</th>\n      <td>Kyrgyzstan</td>\n      <td></td>\n      <td></td>\n      <td></td>\n      <td>1</td>\n      <td></td>\n    </tr>\n    <tr>\n      <th>94</th>\n      <td>Laos</td>\n      <td></td>\n      <td>1</td>\n      <td></td>\n      <td></td>\n      <td></td>\n    </tr>\n    <tr>\n      <th>95</th>\n      <td>Latvia</td>\n      <td></td>\n      <td></td>\n      <td></td>\n      <td>1</td>\n      <td></td>\n    </tr>\n    <tr>\n      <th>96</th>\n      <td>Lebanon</td>\n      <td></td>\n      <td></td>\n      <td></td>\n      <td>1</td>\n      <td></td>\n    </tr>\n    <tr>\n      <th>97</th>\n      <td>Lesotho</td>\n      <td></td>\n      <td></td>\n      <td></td>\n      <td>1</td>\n      <td></td>\n    </tr>\n    <tr>\n      <th>98</th>\n      <td>Liberia</td>\n      <td></td>\n      <td></td>\n      <td>1</td>\n      <td></td>\n      <td></td>\n    </tr>\n    <tr>\n      <th>99</th>\n      <td>Libya</td>\n      <td></td>\n      <td></td>\n      <td></td>\n      <td></td>\n      <td>1</td>\n    </tr>\n    <tr>\n      <th>100</th>\n      <td>Liechtenstein</td>\n      <td></td>\n      <td></td>\n      <td></td>\n      <td>1</td>\n      <td></td>\n    </tr>\n    <tr>\n      <th>101</th>\n      <td>Lithuania</td>\n      <td>1</td>\n      <td></td>\n      <td></td>\n      <td></td>\n      <td></td>\n    </tr>\n    <tr>\n      <th>102</th>\n      <td>Luxembourg</td>\n      <td></td>\n      <td></td>\n      <td>1</td>\n      <td></td>\n      <td></td>\n    </tr>\n    <tr>\n      <th>103</th>\n      <td>Madagascar</td>\n      <td></td>\n      <td></td>\n      <td></td>\n      <td></td>\n      <td>1</td>\n    </tr>\n    <tr>\n      <th>104</th>\n      <td>Malawi</td>\n      <td></td>\n      <td></td>\n      <td></td>\n      <td>1</td>\n      <td></td>\n    </tr>\n    <tr>\n      <th>105</th>\n      <td>Malaysia</td>\n      <td></td>\n      <td></td>\n      <td>1</td>\n      <td></td>\n      <td></td>\n    </tr>\n    <tr>\n      <th>106</th>\n      <td>Maldives</td>\n      <td></td>\n      <td></td>\n      <td>1</td>\n      <td></td>\n      <td></td>\n    </tr>\n    <tr>\n      <th>107</th>\n      <td>Mali</td>\n      <td></td>\n      <td></td>\n      <td></td>\n      <td></td>\n      <td>1</td>\n    </tr>\n    <tr>\n      <th>108</th>\n      <td>Malta</td>\n      <td></td>\n      <td></td>\n      <td></td>\n      <td></td>\n      <td>1</td>\n    </tr>\n    <tr>\n      <th>109</th>\n      <td>Mauritania</td>\n      <td></td>\n      <td></td>\n      <td>1</td>\n      <td></td>\n      <td></td>\n    </tr>\n    <tr>\n      <th>110</th>\n      <td>Mauritius</td>\n      <td>1</td>\n      <td></td>\n      <td></td>\n      <td></td>\n      <td></td>\n    </tr>\n    <tr>\n      <th>111</th>\n      <td>Mexico</td>\n      <td></td>\n      <td></td>\n      <td></td>\n      <td></td>\n      <td>1</td>\n    </tr>\n    <tr>\n      <th>112</th>\n      <td>Moldova</td>\n      <td></td>\n      <td></td>\n      <td>1</td>\n      <td></td>\n      <td></td>\n    </tr>\n    <tr>\n      <th>113</th>\n      <td>Monaco</td>\n      <td></td>\n      <td></td>\n      <td></td>\n      <td></td>\n      <td>1</td>\n    </tr>\n    <tr>\n      <th>114</th>\n      <td>Mongolia</td>\n      <td></td>\n      <td></td>\n      <td></td>\n      <td></td>\n      <td>1</td>\n    </tr>\n    <tr>\n      <th>115</th>\n      <td>Montenegro</td>\n      <td></td>\n      <td></td>\n      <td></td>\n      <td></td>\n      <td>1</td>\n    </tr>\n    <tr>\n      <th>116</th>\n      <td>Morocco</td>\n      <td></td>\n      <td></td>\n      <td></td>\n      <td></td>\n      <td>1</td>\n    </tr>\n    <tr>\n      <th>117</th>\n      <td>Mozambique</td>\n      <td></td>\n      <td></td>\n      <td></td>\n      <td></td>\n      <td>1</td>\n    </tr>\n    <tr>\n      <th>118</th>\n      <td>Namibia</td>\n      <td></td>\n      <td>1</td>\n      <td></td>\n      <td></td>\n      <td></td>\n    </tr>\n    <tr>\n      <th>119</th>\n      <td>Nepal</td>\n      <td>1</td>\n      <td></td>\n      <td></td>\n      <td></td>\n      <td></td>\n    </tr>\n    <tr>\n      <th>120</th>\n      <td>Netherlands</td>\n      <td></td>\n      <td></td>\n      <td>1</td>\n      <td></td>\n      <td></td>\n    </tr>\n    <tr>\n      <th>121</th>\n      <td>New Zealand</td>\n      <td></td>\n      <td></td>\n      <td></td>\n      <td>1</td>\n      <td></td>\n    </tr>\n    <tr>\n      <th>122</th>\n      <td>Nicaragua</td>\n      <td></td>\n      <td></td>\n      <td>1</td>\n      <td></td>\n      <td></td>\n    </tr>\n    <tr>\n      <th>123</th>\n      <td>Niger</td>\n      <td></td>\n      <td></td>\n      <td></td>\n      <td></td>\n      <td>1</td>\n    </tr>\n    <tr>\n      <th>124</th>\n      <td>Nigeria</td>\n      <td></td>\n      <td></td>\n      <td></td>\n      <td></td>\n      <td>1</td>\n    </tr>\n    <tr>\n      <th>125</th>\n      <td>North Macedonia</td>\n      <td>1</td>\n      <td></td>\n      <td></td>\n      <td></td>\n      <td></td>\n    </tr>\n    <tr>\n      <th>126</th>\n      <td>Norway</td>\n      <td></td>\n      <td></td>\n      <td></td>\n      <td></td>\n      <td>1</td>\n    </tr>\n    <tr>\n      <th>127</th>\n      <td>Oman</td>\n      <td>1</td>\n      <td></td>\n      <td></td>\n      <td></td>\n      <td></td>\n    </tr>\n    <tr>\n      <th>128</th>\n      <td>Pakistan</td>\n      <td></td>\n      <td></td>\n      <td>1</td>\n      <td></td>\n      <td></td>\n    </tr>\n    <tr>\n      <th>129</th>\n      <td>Panama</td>\n      <td></td>\n      <td></td>\n      <td></td>\n      <td>1</td>\n      <td></td>\n    </tr>\n    <tr>\n      <th>130</th>\n      <td>Papua New Guinea</td>\n      <td></td>\n      <td></td>\n      <td></td>\n      <td></td>\n      <td>1</td>\n    </tr>\n    <tr>\n      <th>131</th>\n      <td>Paraguay</td>\n      <td></td>\n      <td></td>\n      <td></td>\n      <td></td>\n      <td>1</td>\n    </tr>\n    <tr>\n      <th>132</th>\n      <td>Peru</td>\n      <td></td>\n      <td>1</td>\n      <td></td>\n      <td></td>\n      <td></td>\n    </tr>\n    <tr>\n      <th>133</th>\n      <td>Philippines</td>\n      <td></td>\n      <td></td>\n      <td></td>\n      <td>1</td>\n      <td></td>\n    </tr>\n    <tr>\n      <th>134</th>\n      <td>Poland</td>\n      <td></td>\n      <td></td>\n      <td></td>\n      <td></td>\n      <td>1</td>\n    </tr>\n    <tr>\n      <th>135</th>\n      <td>Portugal</td>\n      <td></td>\n      <td>1</td>\n      <td></td>\n      <td></td>\n      <td></td>\n    </tr>\n    <tr>\n      <th>136</th>\n      <td>Qatar</td>\n      <td></td>\n      <td></td>\n      <td></td>\n      <td>1</td>\n      <td></td>\n    </tr>\n    <tr>\n      <th>137</th>\n      <td>Romania</td>\n      <td></td>\n      <td></td>\n      <td></td>\n      <td>1</td>\n      <td></td>\n    </tr>\n    <tr>\n      <th>138</th>\n      <td>Russia</td>\n      <td>1</td>\n      <td></td>\n      <td></td>\n      <td></td>\n      <td></td>\n    </tr>\n    <tr>\n      <th>139</th>\n      <td>Rwanda</td>\n      <td></td>\n      <td></td>\n      <td></td>\n      <td></td>\n      <td>1</td>\n    </tr>\n    <tr>\n      <th>140</th>\n      <td>Saint Kitts and Nevis</td>\n      <td>1</td>\n      <td></td>\n      <td></td>\n      <td></td>\n      <td></td>\n    </tr>\n    <tr>\n      <th>141</th>\n      <td>Saint Lucia</td>\n      <td></td>\n      <td></td>\n      <td></td>\n      <td></td>\n      <td>1</td>\n    </tr>\n    <tr>\n      <th>142</th>\n      <td>Saint Vincent and the Grenadines</td>\n      <td></td>\n      <td></td>\n      <td>1</td>\n      <td></td>\n      <td></td>\n    </tr>\n    <tr>\n      <th>143</th>\n      <td>San Marino</td>\n      <td></td>\n      <td></td>\n      <td></td>\n      <td></td>\n      <td>1</td>\n    </tr>\n    <tr>\n      <th>144</th>\n      <td>Sao Tome and Principe</td>\n      <td></td>\n      <td>1</td>\n      <td></td>\n      <td></td>\n      <td></td>\n    </tr>\n    <tr>\n      <th>145</th>\n      <td>Saudi Arabia</td>\n      <td></td>\n      <td></td>\n      <td>1</td>\n      <td></td>\n      <td></td>\n    </tr>\n    <tr>\n      <th>146</th>\n      <td>Senegal</td>\n      <td>1</td>\n      <td></td>\n      <td></td>\n      <td></td>\n      <td></td>\n    </tr>\n    <tr>\n      <th>147</th>\n      <td>Serbia</td>\n      <td>1</td>\n      <td></td>\n      <td></td>\n      <td></td>\n      <td></td>\n    </tr>\n    <tr>\n      <th>148</th>\n      <td>Seychelles</td>\n      <td></td>\n      <td>1</td>\n      <td></td>\n      <td></td>\n      <td></td>\n    </tr>\n    <tr>\n      <th>149</th>\n      <td>Sierra Leone</td>\n      <td></td>\n      <td></td>\n      <td></td>\n      <td>1</td>\n      <td></td>\n    </tr>\n    <tr>\n      <th>150</th>\n      <td>Singapore</td>\n      <td></td>\n      <td></td>\n      <td>1</td>\n      <td></td>\n      <td></td>\n    </tr>\n    <tr>\n      <th>151</th>\n      <td>Slovakia</td>\n      <td>1</td>\n      <td></td>\n      <td></td>\n      <td></td>\n      <td></td>\n    </tr>\n    <tr>\n      <th>152</th>\n      <td>Slovenia</td>\n      <td></td>\n      <td></td>\n      <td></td>\n      <td></td>\n      <td>1</td>\n    </tr>\n    <tr>\n      <th>153</th>\n      <td>Somalia</td>\n      <td></td>\n      <td>1</td>\n      <td></td>\n      <td></td>\n      <td></td>\n    </tr>\n    <tr>\n      <th>154</th>\n      <td>South Africa</td>\n      <td></td>\n      <td></td>\n      <td></td>\n      <td></td>\n      <td>1</td>\n    </tr>\n    <tr>\n      <th>155</th>\n      <td>South Korea</td>\n      <td></td>\n      <td></td>\n      <td></td>\n      <td></td>\n      <td>1</td>\n    </tr>\n    <tr>\n      <th>156</th>\n      <td>South Sudan</td>\n      <td></td>\n      <td></td>\n      <td>1</td>\n      <td></td>\n      <td></td>\n    </tr>\n    <tr>\n      <th>157</th>\n      <td>Spain</td>\n      <td></td>\n      <td></td>\n      <td></td>\n      <td>1</td>\n      <td></td>\n    </tr>\n    <tr>\n      <th>158</th>\n      <td>Sri Lanka</td>\n      <td></td>\n      <td></td>\n      <td></td>\n      <td></td>\n      <td>1</td>\n    </tr>\n    <tr>\n      <th>159</th>\n      <td>Sudan</td>\n      <td>1</td>\n      <td></td>\n      <td></td>\n      <td></td>\n      <td></td>\n    </tr>\n    <tr>\n      <th>160</th>\n      <td>Suriname</td>\n      <td></td>\n      <td></td>\n      <td></td>\n      <td></td>\n      <td>1</td>\n    </tr>\n    <tr>\n      <th>161</th>\n      <td>Sweden</td>\n      <td></td>\n      <td>1</td>\n      <td></td>\n      <td></td>\n      <td></td>\n    </tr>\n    <tr>\n      <th>162</th>\n      <td>Switzerland</td>\n      <td></td>\n      <td></td>\n      <td></td>\n      <td>1</td>\n      <td></td>\n    </tr>\n    <tr>\n      <th>163</th>\n      <td>Syria</td>\n      <td></td>\n      <td></td>\n      <td></td>\n      <td>1</td>\n      <td></td>\n    </tr>\n    <tr>\n      <th>164</th>\n      <td>Taiwan*</td>\n      <td>1</td>\n      <td></td>\n      <td></td>\n      <td></td>\n      <td></td>\n    </tr>\n    <tr>\n      <th>165</th>\n      <td>Tajikistan</td>\n      <td>1</td>\n      <td></td>\n      <td></td>\n      <td></td>\n      <td></td>\n    </tr>\n    <tr>\n      <th>166</th>\n      <td>Tanzania</td>\n      <td></td>\n      <td></td>\n      <td></td>\n      <td></td>\n      <td>1</td>\n    </tr>\n    <tr>\n      <th>167</th>\n      <td>Thailand</td>\n      <td></td>\n      <td>1</td>\n      <td></td>\n      <td></td>\n      <td></td>\n    </tr>\n    <tr>\n      <th>168</th>\n      <td>Timor-Leste</td>\n      <td></td>\n      <td></td>\n      <td></td>\n      <td>1</td>\n      <td></td>\n    </tr>\n    <tr>\n      <th>169</th>\n      <td>Togo</td>\n      <td>1</td>\n      <td></td>\n      <td></td>\n      <td></td>\n      <td></td>\n    </tr>\n    <tr>\n      <th>170</th>\n      <td>Trinidad and Tobago</td>\n      <td></td>\n      <td></td>\n      <td></td>\n      <td></td>\n      <td>1</td>\n    </tr>\n    <tr>\n      <th>171</th>\n      <td>Tunisia</td>\n      <td>1</td>\n      <td></td>\n      <td></td>\n      <td></td>\n      <td></td>\n    </tr>\n    <tr>\n      <th>172</th>\n      <td>Turkey</td>\n      <td>1</td>\n      <td></td>\n      <td></td>\n      <td></td>\n      <td></td>\n    </tr>\n    <tr>\n      <th>173</th>\n      <td>US</td>\n      <td>1</td>\n      <td></td>\n      <td></td>\n      <td></td>\n      <td></td>\n    </tr>\n    <tr>\n      <th>174</th>\n      <td>Uganda</td>\n      <td>1</td>\n      <td></td>\n      <td></td>\n      <td></td>\n      <td></td>\n    </tr>\n    <tr>\n      <th>175</th>\n      <td>Ukraine</td>\n      <td></td>\n      <td></td>\n      <td></td>\n      <td>1</td>\n      <td></td>\n    </tr>\n    <tr>\n      <th>176</th>\n      <td>United Arab Emirates</td>\n      <td></td>\n      <td></td>\n      <td></td>\n      <td></td>\n      <td>1</td>\n    </tr>\n    <tr>\n      <th>177</th>\n      <td>United Kingdom</td>\n      <td></td>\n      <td></td>\n      <td></td>\n      <td></td>\n      <td>1</td>\n    </tr>\n    <tr>\n      <th>178</th>\n      <td>Uruguay</td>\n      <td></td>\n      <td></td>\n      <td></td>\n      <td></td>\n      <td>1</td>\n    </tr>\n    <tr>\n      <th>179</th>\n      <td>Uzbekistan</td>\n      <td></td>\n      <td>1</td>\n      <td></td>\n      <td></td>\n      <td></td>\n    </tr>\n    <tr>\n      <th>180</th>\n      <td>Venezuela</td>\n      <td></td>\n      <td></td>\n      <td></td>\n      <td></td>\n      <td>1</td>\n    </tr>\n    <tr>\n      <th>181</th>\n      <td>Vietnam</td>\n      <td>1</td>\n      <td></td>\n      <td></td>\n      <td></td>\n      <td></td>\n    </tr>\n    <tr>\n      <th>182</th>\n      <td>West Bank and Gaza</td>\n      <td></td>\n      <td></td>\n      <td>1</td>\n      <td></td>\n      <td></td>\n    </tr>\n    <tr>\n      <th>183</th>\n      <td>Western Sahara</td>\n      <td></td>\n      <td></td>\n      <td></td>\n      <td>1</td>\n      <td></td>\n    </tr>\n    <tr>\n      <th>184</th>\n      <td>Yemen</td>\n      <td></td>\n      <td></td>\n      <td></td>\n      <td>1</td>\n      <td></td>\n    </tr>\n    <tr>\n      <th>185</th>\n      <td>Zambia</td>\n      <td>1</td>\n      <td></td>\n      <td></td>\n      <td></td>\n      <td></td>\n    </tr>\n    <tr>\n      <th>186</th>\n      <td>Zimbabwe</td>\n      <td>1</td>\n      <td></td>\n      <td></td>\n      <td></td>\n      <td></td>\n    </tr>\n  </tbody>\n</table>\n</div>"
     },
     "metadata": {},
     "execution_count": 12
    }
   ],
   "source": [
    "pd.set_option('max_rows', None)\n",
    "result.head(187)"
   ]
  },
  {
   "cell_type": "code",
   "execution_count": 13,
   "metadata": {},
   "outputs": [
    {
     "output_type": "execute_result",
     "data": {
      "text/plain": [
       "         C1        C2        C3        C4        C5\n",
       "0  0.184517  0.291178  0.214042  0.182506  0.127756\n",
       "1  0.135961  0.075372  0.291200  0.434132  0.063334\n",
       "2  0.268972  0.129038  0.143912  0.445445  0.012633\n",
       "3  0.016742  0.003751  0.328270  0.276536  0.374701\n",
       "4  0.498615  0.208154  0.080257  0.196651  0.016322"
      ],
      "text/html": "<div>\n<style scoped>\n    .dataframe tbody tr th:only-of-type {\n        vertical-align: middle;\n    }\n\n    .dataframe tbody tr th {\n        vertical-align: top;\n    }\n\n    .dataframe thead th {\n        text-align: right;\n    }\n</style>\n<table border=\"1\" class=\"dataframe\">\n  <thead>\n    <tr style=\"text-align: right;\">\n      <th></th>\n      <th>C1</th>\n      <th>C2</th>\n      <th>C3</th>\n      <th>C4</th>\n      <th>C5</th>\n    </tr>\n  </thead>\n  <tbody>\n    <tr>\n      <th>0</th>\n      <td>0.184517</td>\n      <td>0.291178</td>\n      <td>0.214042</td>\n      <td>0.182506</td>\n      <td>0.127756</td>\n    </tr>\n    <tr>\n      <th>1</th>\n      <td>0.135961</td>\n      <td>0.075372</td>\n      <td>0.291200</td>\n      <td>0.434132</td>\n      <td>0.063334</td>\n    </tr>\n    <tr>\n      <th>2</th>\n      <td>0.268972</td>\n      <td>0.129038</td>\n      <td>0.143912</td>\n      <td>0.445445</td>\n      <td>0.012633</td>\n    </tr>\n    <tr>\n      <th>3</th>\n      <td>0.016742</td>\n      <td>0.003751</td>\n      <td>0.328270</td>\n      <td>0.276536</td>\n      <td>0.374701</td>\n    </tr>\n    <tr>\n      <th>4</th>\n      <td>0.498615</td>\n      <td>0.208154</td>\n      <td>0.080257</td>\n      <td>0.196651</td>\n      <td>0.016322</td>\n    </tr>\n  </tbody>\n</table>\n</div>"
     },
     "metadata": {},
     "execution_count": 13
    }
   ],
   "source": [
    "c_df.head()"
   ]
  },
  {
   "cell_type": "code",
   "execution_count": null,
   "metadata": {},
   "outputs": [],
   "source": []
  },
  {
   "cell_type": "markdown",
   "metadata": {},
   "source": [
    "#### Cluster"
   ]
  },
  {
   "cell_type": "code",
   "execution_count": 14,
   "metadata": {},
   "outputs": [],
   "source": [
    "\n",
    "all_cluster = {}\n",
    "\n",
    "div = []\n",
    "\n",
    "for i, cluster in enumerate(cluster_name):\n",
    "    all_cluster[cluster] = {}\n",
    "    all_cluster[cluster][\"DATA\"] = pd.DataFrame()\n",
    "    \n",
    "    all_cluster[cluster][\"DATA\"][c_colname[i] + \"^2\"] = np.power(c_df[c_colname[i]], 2)\n",
    "    all_cluster[cluster][\"SUM_\" + c_colname[i] + \"^2\"] = np.sum(all_cluster[cluster][\"DATA\"][c_colname[i] + \"^2\"])\n",
    "    div.append([])\n",
    "    for j, x in enumerate(x_colname):\n",
    "        all_cluster[cluster][\"DATA\"][c_colname[i] + \"*\" + x] = all_cluster[cluster][\"DATA\"][c_colname[i] + \"^2\"] * train_data[x]\n",
    "        \n",
    "        all_cluster[cluster][\"SUM_\" + c_colname[i] + \"*\" + x] = np.sum(all_cluster[cluster][\"DATA\"][c_colname[i] + \"*\" + x])\n",
    "        \n",
    "        all_cluster[cluster][\"SUM_\" + c_colname[i] + \"*\" + x + \"_DIV_\" + \"SUM_\" + c_colname[i] + \"^2\"] = all_cluster[cluster][\"SUM_\" + c_colname[i] + \"*\" + x] / all_cluster[cluster][\"SUM_\" + c_colname[i] + \"^2\"]\n",
    "        \n",
    "        div[i].append(all_cluster[cluster][\"SUM_\" + c_colname[i] + \"*\" + x + \"_DIV_\" + \"SUM_\" + c_colname[i] + \"^2\"])"
   ]
  },
  {
   "cell_type": "code",
   "execution_count": 15,
   "metadata": {},
   "outputs": [
    {
     "output_type": "execute_result",
     "data": {
      "text/plain": [
       "       C1^2      C1*X1     C1*X2      C1*X3\n",
       "0  0.034047   3.608944  0.340466   0.612840\n",
       "1  0.018485   2.162789  0.110912   1.164579\n",
       "2  0.072346  44.564978  0.578766  54.186962\n",
       "3  0.000280   0.002803  0.000000   0.000000\n",
       "4  0.248617   4.475109  0.248617   0.000000"
      ],
      "text/html": "<div>\n<style scoped>\n    .dataframe tbody tr th:only-of-type {\n        vertical-align: middle;\n    }\n\n    .dataframe tbody tr th {\n        vertical-align: top;\n    }\n\n    .dataframe thead th {\n        text-align: right;\n    }\n</style>\n<table border=\"1\" class=\"dataframe\">\n  <thead>\n    <tr style=\"text-align: right;\">\n      <th></th>\n      <th>C1^2</th>\n      <th>C1*X1</th>\n      <th>C1*X2</th>\n      <th>C1*X3</th>\n    </tr>\n  </thead>\n  <tbody>\n    <tr>\n      <th>0</th>\n      <td>0.034047</td>\n      <td>3.608944</td>\n      <td>0.340466</td>\n      <td>0.612840</td>\n    </tr>\n    <tr>\n      <th>1</th>\n      <td>0.018485</td>\n      <td>2.162789</td>\n      <td>0.110912</td>\n      <td>1.164579</td>\n    </tr>\n    <tr>\n      <th>2</th>\n      <td>0.072346</td>\n      <td>44.564978</td>\n      <td>0.578766</td>\n      <td>54.186962</td>\n    </tr>\n    <tr>\n      <th>3</th>\n      <td>0.000280</td>\n      <td>0.002803</td>\n      <td>0.000000</td>\n      <td>0.000000</td>\n    </tr>\n    <tr>\n      <th>4</th>\n      <td>0.248617</td>\n      <td>4.475109</td>\n      <td>0.248617</td>\n      <td>0.000000</td>\n    </tr>\n  </tbody>\n</table>\n</div>"
     },
     "metadata": {},
     "execution_count": 15
    }
   ],
   "source": [
    "all_cluster[\"CLUSTER_1\"][\"DATA\"].head()"
   ]
  },
  {
   "cell_type": "code",
   "execution_count": 16,
   "metadata": {},
   "outputs": [
    {
     "output_type": "execute_result",
     "data": {
      "text/plain": [
       "       C2^2      C2*X1     C2*X2      C2*X3\n",
       "0  0.084785   8.987157  0.847845   1.526121\n",
       "1  0.005681   0.664670  0.034086   0.357899\n",
       "2  0.016651  10.256974  0.133207  12.471548\n",
       "3  0.000014   0.000141  0.000000   0.000000\n",
       "4  0.043328   0.779903  0.043328   0.000000"
      ],
      "text/html": "<div>\n<style scoped>\n    .dataframe tbody tr th:only-of-type {\n        vertical-align: middle;\n    }\n\n    .dataframe tbody tr th {\n        vertical-align: top;\n    }\n\n    .dataframe thead th {\n        text-align: right;\n    }\n</style>\n<table border=\"1\" class=\"dataframe\">\n  <thead>\n    <tr style=\"text-align: right;\">\n      <th></th>\n      <th>C2^2</th>\n      <th>C2*X1</th>\n      <th>C2*X2</th>\n      <th>C2*X3</th>\n    </tr>\n  </thead>\n  <tbody>\n    <tr>\n      <th>0</th>\n      <td>0.084785</td>\n      <td>8.987157</td>\n      <td>0.847845</td>\n      <td>1.526121</td>\n    </tr>\n    <tr>\n      <th>1</th>\n      <td>0.005681</td>\n      <td>0.664670</td>\n      <td>0.034086</td>\n      <td>0.357899</td>\n    </tr>\n    <tr>\n      <th>2</th>\n      <td>0.016651</td>\n      <td>10.256974</td>\n      <td>0.133207</td>\n      <td>12.471548</td>\n    </tr>\n    <tr>\n      <th>3</th>\n      <td>0.000014</td>\n      <td>0.000141</td>\n      <td>0.000000</td>\n      <td>0.000000</td>\n    </tr>\n    <tr>\n      <th>4</th>\n      <td>0.043328</td>\n      <td>0.779903</td>\n      <td>0.043328</td>\n      <td>0.000000</td>\n    </tr>\n  </tbody>\n</table>\n</div>"
     },
     "metadata": {},
     "execution_count": 16
    }
   ],
   "source": [
    "all_cluster[\"CLUSTER_2\"][\"DATA\"].head()"
   ]
  },
  {
   "cell_type": "code",
   "execution_count": 17,
   "metadata": {},
   "outputs": [
    {
     "output_type": "execute_result",
     "data": {
      "text/plain": [
       "       C3^2      C3*X1     C3*X2      C3*X3\n",
       "0  0.045814   4.856287  0.458140   0.824652\n",
       "1  0.084798   9.921332  0.508786   5.342256\n",
       "2  0.020711  12.757842  0.165686  15.512376\n",
       "3  0.107761   1.077613  0.000000   0.000000\n",
       "4  0.006441   0.115943  0.006441   0.000000"
      ],
      "text/html": "<div>\n<style scoped>\n    .dataframe tbody tr th:only-of-type {\n        vertical-align: middle;\n    }\n\n    .dataframe tbody tr th {\n        vertical-align: top;\n    }\n\n    .dataframe thead th {\n        text-align: right;\n    }\n</style>\n<table border=\"1\" class=\"dataframe\">\n  <thead>\n    <tr style=\"text-align: right;\">\n      <th></th>\n      <th>C3^2</th>\n      <th>C3*X1</th>\n      <th>C3*X2</th>\n      <th>C3*X3</th>\n    </tr>\n  </thead>\n  <tbody>\n    <tr>\n      <th>0</th>\n      <td>0.045814</td>\n      <td>4.856287</td>\n      <td>0.458140</td>\n      <td>0.824652</td>\n    </tr>\n    <tr>\n      <th>1</th>\n      <td>0.084798</td>\n      <td>9.921332</td>\n      <td>0.508786</td>\n      <td>5.342256</td>\n    </tr>\n    <tr>\n      <th>2</th>\n      <td>0.020711</td>\n      <td>12.757842</td>\n      <td>0.165686</td>\n      <td>15.512376</td>\n    </tr>\n    <tr>\n      <th>3</th>\n      <td>0.107761</td>\n      <td>1.077613</td>\n      <td>0.000000</td>\n      <td>0.000000</td>\n    </tr>\n    <tr>\n      <th>4</th>\n      <td>0.006441</td>\n      <td>0.115943</td>\n      <td>0.006441</td>\n      <td>0.000000</td>\n    </tr>\n  </tbody>\n</table>\n</div>"
     },
     "metadata": {},
     "execution_count": 17
    }
   ],
   "source": [
    "all_cluster[\"CLUSTER_3\"][\"DATA\"].head()"
   ]
  },
  {
   "cell_type": "code",
   "execution_count": 18,
   "metadata": {},
   "outputs": [
    {
     "output_type": "execute_result",
     "data": {
      "text/plain": [
       "       C4^2       C4*X1     C4*X2       C4*X3\n",
       "0  0.033309    3.530713  0.333086    0.599555\n",
       "1  0.188471   22.051099  1.130826   11.873669\n",
       "2  0.198421  122.227398  1.587369  148.617404\n",
       "3  0.076472    0.764719  0.000000    0.000000\n",
       "4  0.038672    0.696091  0.038672    0.000000"
      ],
      "text/html": "<div>\n<style scoped>\n    .dataframe tbody tr th:only-of-type {\n        vertical-align: middle;\n    }\n\n    .dataframe tbody tr th {\n        vertical-align: top;\n    }\n\n    .dataframe thead th {\n        text-align: right;\n    }\n</style>\n<table border=\"1\" class=\"dataframe\">\n  <thead>\n    <tr style=\"text-align: right;\">\n      <th></th>\n      <th>C4^2</th>\n      <th>C4*X1</th>\n      <th>C4*X2</th>\n      <th>C4*X3</th>\n    </tr>\n  </thead>\n  <tbody>\n    <tr>\n      <th>0</th>\n      <td>0.033309</td>\n      <td>3.530713</td>\n      <td>0.333086</td>\n      <td>0.599555</td>\n    </tr>\n    <tr>\n      <th>1</th>\n      <td>0.188471</td>\n      <td>22.051099</td>\n      <td>1.130826</td>\n      <td>11.873669</td>\n    </tr>\n    <tr>\n      <th>2</th>\n      <td>0.198421</td>\n      <td>122.227398</td>\n      <td>1.587369</td>\n      <td>148.617404</td>\n    </tr>\n    <tr>\n      <th>3</th>\n      <td>0.076472</td>\n      <td>0.764719</td>\n      <td>0.000000</td>\n      <td>0.000000</td>\n    </tr>\n    <tr>\n      <th>4</th>\n      <td>0.038672</td>\n      <td>0.696091</td>\n      <td>0.038672</td>\n      <td>0.000000</td>\n    </tr>\n  </tbody>\n</table>\n</div>"
     },
     "metadata": {},
     "execution_count": 18
    }
   ],
   "source": [
    "all_cluster[\"CLUSTER_4\"][\"DATA\"].head()"
   ]
  },
  {
   "cell_type": "code",
   "execution_count": 19,
   "metadata": {},
   "outputs": [
    {
     "output_type": "execute_result",
     "data": {
      "text/plain": [
       "       C5^2     C5*X1     C5*X2     C5*X3\n",
       "0  0.016322  1.730098  0.163217  0.293790\n",
       "1  0.004011  0.469313  0.024067  0.252707\n",
       "2  0.000160  0.098303  0.001277  0.119528\n",
       "3  0.140401  1.404012  0.000000  0.000000\n",
       "4  0.000266  0.004796  0.000266  0.000000"
      ],
      "text/html": "<div>\n<style scoped>\n    .dataframe tbody tr th:only-of-type {\n        vertical-align: middle;\n    }\n\n    .dataframe tbody tr th {\n        vertical-align: top;\n    }\n\n    .dataframe thead th {\n        text-align: right;\n    }\n</style>\n<table border=\"1\" class=\"dataframe\">\n  <thead>\n    <tr style=\"text-align: right;\">\n      <th></th>\n      <th>C5^2</th>\n      <th>C5*X1</th>\n      <th>C5*X2</th>\n      <th>C5*X3</th>\n    </tr>\n  </thead>\n  <tbody>\n    <tr>\n      <th>0</th>\n      <td>0.016322</td>\n      <td>1.730098</td>\n      <td>0.163217</td>\n      <td>0.293790</td>\n    </tr>\n    <tr>\n      <th>1</th>\n      <td>0.004011</td>\n      <td>0.469313</td>\n      <td>0.024067</td>\n      <td>0.252707</td>\n    </tr>\n    <tr>\n      <th>2</th>\n      <td>0.000160</td>\n      <td>0.098303</td>\n      <td>0.001277</td>\n      <td>0.119528</td>\n    </tr>\n    <tr>\n      <th>3</th>\n      <td>0.140401</td>\n      <td>1.404012</td>\n      <td>0.000000</td>\n      <td>0.000000</td>\n    </tr>\n    <tr>\n      <th>4</th>\n      <td>0.000266</td>\n      <td>0.004796</td>\n      <td>0.000266</td>\n      <td>0.000000</td>\n    </tr>\n  </tbody>\n</table>\n</div>"
     },
     "metadata": {},
     "execution_count": 19
    }
   ],
   "source": [
    "all_cluster[\"CLUSTER_5\"][\"DATA\"].head()"
   ]
  },
  {
   "cell_type": "code",
   "execution_count": 20,
   "metadata": {},
   "outputs": [],
   "source": [
    "# print(all_cluster[\"CLUSTER_2\"][\"SUM_C2*X2_DIV_SUM_C2^2\"])"
   ]
  },
  {
   "cell_type": "markdown",
   "metadata": {},
   "source": [
    "#### Pusat Cluster"
   ]
  },
  {
   "cell_type": "code",
   "execution_count": 21,
   "metadata": {},
   "outputs": [
    {
     "output_type": "execute_result",
     "data": {
      "text/plain": [
       "                    X1         X2           X3\n",
       "CLUSTER_1  3419.390481  58.529735  2317.235424\n",
       "CLUSTER_2  1154.220716  34.099551   794.405869\n",
       "CLUSTER_3   524.323202  12.084287   484.056412\n",
       "CLUSTER_4  1206.833865  30.145610   860.561005\n",
       "CLUSTER_5   543.697542  19.099963   597.000924"
      ],
      "text/html": "<div>\n<style scoped>\n    .dataframe tbody tr th:only-of-type {\n        vertical-align: middle;\n    }\n\n    .dataframe tbody tr th {\n        vertical-align: top;\n    }\n\n    .dataframe thead th {\n        text-align: right;\n    }\n</style>\n<table border=\"1\" class=\"dataframe\">\n  <thead>\n    <tr style=\"text-align: right;\">\n      <th></th>\n      <th>X1</th>\n      <th>X2</th>\n      <th>X3</th>\n    </tr>\n  </thead>\n  <tbody>\n    <tr>\n      <th>CLUSTER_1</th>\n      <td>3419.390481</td>\n      <td>58.529735</td>\n      <td>2317.235424</td>\n    </tr>\n    <tr>\n      <th>CLUSTER_2</th>\n      <td>1154.220716</td>\n      <td>34.099551</td>\n      <td>794.405869</td>\n    </tr>\n    <tr>\n      <th>CLUSTER_3</th>\n      <td>524.323202</td>\n      <td>12.084287</td>\n      <td>484.056412</td>\n    </tr>\n    <tr>\n      <th>CLUSTER_4</th>\n      <td>1206.833865</td>\n      <td>30.145610</td>\n      <td>860.561005</td>\n    </tr>\n    <tr>\n      <th>CLUSTER_5</th>\n      <td>543.697542</td>\n      <td>19.099963</td>\n      <td>597.000924</td>\n    </tr>\n  </tbody>\n</table>\n</div>"
     },
     "metadata": {},
     "execution_count": 21
    }
   ],
   "source": [
    "pusat_cluster = pd.DataFrame(np.array(div))\n",
    "pusat_cluster.columns = x_colname\n",
    "pusat_cluster.index = cluster_name\n",
    "pusat_cluster.head()"
   ]
  },
  {
   "cell_type": "code",
   "execution_count": 22,
   "metadata": {},
   "outputs": [],
   "source": [
    "cluster = {}\n",
    "for i, c in enumerate(cluster_name):\n",
    "    cluster[c] = pd.DataFrame()\n",
    "    for x in x_colname:\n",
    "        cluster[c][ \"(\" + x + \"-\" + v_colname[i] + \")^2\"] = np.power(train_data[x] - pusat_cluster[\"X1\"][i], 2)\n",
    "    cluster[c][\"SUM\"] = cluster[c].sum(axis=1)"
   ]
  },
  {
   "cell_type": "code",
   "execution_count": 23,
   "metadata": {},
   "outputs": [
    {
     "output_type": "execute_result",
     "data": {
      "text/plain": [
       "      (X1-V2)^2     (X2-V2)^2     (X3-V2)^2           SUM\n",
       "0  1.098767e+06  1.309241e+06  1.290998e+06  3.699005e+06\n",
       "1  1.075827e+06  1.318411e+06  1.190763e+06  3.585000e+06\n",
       "2  2.896815e+05  1.313822e+06  1.642038e+05  1.767707e+06\n",
       "3  1.309241e+06  1.332225e+06  1.332225e+06  3.973692e+06\n",
       "4  1.290998e+06  1.329918e+06  1.332225e+06  3.953141e+06"
      ],
      "text/html": "<div>\n<style scoped>\n    .dataframe tbody tr th:only-of-type {\n        vertical-align: middle;\n    }\n\n    .dataframe tbody tr th {\n        vertical-align: top;\n    }\n\n    .dataframe thead th {\n        text-align: right;\n    }\n</style>\n<table border=\"1\" class=\"dataframe\">\n  <thead>\n    <tr style=\"text-align: right;\">\n      <th></th>\n      <th>(X1-V2)^2</th>\n      <th>(X2-V2)^2</th>\n      <th>(X3-V2)^2</th>\n      <th>SUM</th>\n    </tr>\n  </thead>\n  <tbody>\n    <tr>\n      <th>0</th>\n      <td>1.098767e+06</td>\n      <td>1.309241e+06</td>\n      <td>1.290998e+06</td>\n      <td>3.699005e+06</td>\n    </tr>\n    <tr>\n      <th>1</th>\n      <td>1.075827e+06</td>\n      <td>1.318411e+06</td>\n      <td>1.190763e+06</td>\n      <td>3.585000e+06</td>\n    </tr>\n    <tr>\n      <th>2</th>\n      <td>2.896815e+05</td>\n      <td>1.313822e+06</td>\n      <td>1.642038e+05</td>\n      <td>1.767707e+06</td>\n    </tr>\n    <tr>\n      <th>3</th>\n      <td>1.309241e+06</td>\n      <td>1.332225e+06</td>\n      <td>1.332225e+06</td>\n      <td>3.973692e+06</td>\n    </tr>\n    <tr>\n      <th>4</th>\n      <td>1.290998e+06</td>\n      <td>1.329918e+06</td>\n      <td>1.332225e+06</td>\n      <td>3.953141e+06</td>\n    </tr>\n  </tbody>\n</table>\n</div>"
     },
     "metadata": {},
     "execution_count": 23
    }
   ],
   "source": [
    "cluster[\"CLUSTER_2\"].head()"
   ]
  },
  {
   "cell_type": "markdown",
   "metadata": {},
   "source": [
    "#### Objective Function"
   ]
  },
  {
   "cell_type": "code",
   "execution_count": 24,
   "metadata": {},
   "outputs": [],
   "source": [
    "obj_function = np.power(c_df, 2)\n",
    "obj_function.columns = [c + \"^2\" for c in c_colname]"
   ]
  },
  {
   "cell_type": "code",
   "execution_count": 25,
   "metadata": {},
   "outputs": [],
   "source": [
    "for i, l in enumerate(l_colname):\n",
    "    obj_function[l] = np.abs(cluster[cluster_name[i]][\"SUM\"]) * obj_function[obj_function.columns[i]]\n",
    "obj_function[\"TOTAL\"] = obj_function[l_colname].sum(axis=1)"
   ]
  },
  {
   "cell_type": "code",
   "execution_count": 26,
   "metadata": {},
   "outputs": [
    {
     "output_type": "execute_result",
     "data": {
      "text/plain": [
       "       C1^2      C2^2      C3^2      C4^2      C5^2            L1  \\\n",
       "0  0.034047  0.084785  0.045814  0.033309  0.016322  1.163440e+06   \n",
       "1  0.018485  0.005681  0.084798  0.188471  0.004011  6.252194e+05   \n",
       "2  0.072346  0.016651  0.020711  0.198421  0.000160  1.926391e+06   \n",
       "3  0.000280  0.000014  0.107761  0.076472  0.140401  9.812224e+03   \n",
       "4  0.248617  0.043328  0.006441  0.038672  0.000266  8.688445e+06   \n",
       "\n",
       "              L2            L3             L4             L5         TOTAL  \n",
       "0  313618.323622  31881.331834  135152.104781   12286.469003  1.656379e+06  \n",
       "1   20366.160225  54897.210193  742216.586709    2816.918957  1.445516e+06  \n",
       "2   29433.974079   6740.820201  396028.504158      53.356393  2.358648e+06  \n",
       "3      55.913920  87756.267760  332294.112480  122998.060016  5.529166e+05  \n",
       "4  171281.459843   5186.147303  167209.252362     230.847181  9.032353e+06  "
      ],
      "text/html": "<div>\n<style scoped>\n    .dataframe tbody tr th:only-of-type {\n        vertical-align: middle;\n    }\n\n    .dataframe tbody tr th {\n        vertical-align: top;\n    }\n\n    .dataframe thead th {\n        text-align: right;\n    }\n</style>\n<table border=\"1\" class=\"dataframe\">\n  <thead>\n    <tr style=\"text-align: right;\">\n      <th></th>\n      <th>C1^2</th>\n      <th>C2^2</th>\n      <th>C3^2</th>\n      <th>C4^2</th>\n      <th>C5^2</th>\n      <th>L1</th>\n      <th>L2</th>\n      <th>L3</th>\n      <th>L4</th>\n      <th>L5</th>\n      <th>TOTAL</th>\n    </tr>\n  </thead>\n  <tbody>\n    <tr>\n      <th>0</th>\n      <td>0.034047</td>\n      <td>0.084785</td>\n      <td>0.045814</td>\n      <td>0.033309</td>\n      <td>0.016322</td>\n      <td>1.163440e+06</td>\n      <td>313618.323622</td>\n      <td>31881.331834</td>\n      <td>135152.104781</td>\n      <td>12286.469003</td>\n      <td>1.656379e+06</td>\n    </tr>\n    <tr>\n      <th>1</th>\n      <td>0.018485</td>\n      <td>0.005681</td>\n      <td>0.084798</td>\n      <td>0.188471</td>\n      <td>0.004011</td>\n      <td>6.252194e+05</td>\n      <td>20366.160225</td>\n      <td>54897.210193</td>\n      <td>742216.586709</td>\n      <td>2816.918957</td>\n      <td>1.445516e+06</td>\n    </tr>\n    <tr>\n      <th>2</th>\n      <td>0.072346</td>\n      <td>0.016651</td>\n      <td>0.020711</td>\n      <td>0.198421</td>\n      <td>0.000160</td>\n      <td>1.926391e+06</td>\n      <td>29433.974079</td>\n      <td>6740.820201</td>\n      <td>396028.504158</td>\n      <td>53.356393</td>\n      <td>2.358648e+06</td>\n    </tr>\n    <tr>\n      <th>3</th>\n      <td>0.000280</td>\n      <td>0.000014</td>\n      <td>0.107761</td>\n      <td>0.076472</td>\n      <td>0.140401</td>\n      <td>9.812224e+03</td>\n      <td>55.913920</td>\n      <td>87756.267760</td>\n      <td>332294.112480</td>\n      <td>122998.060016</td>\n      <td>5.529166e+05</td>\n    </tr>\n    <tr>\n      <th>4</th>\n      <td>0.248617</td>\n      <td>0.043328</td>\n      <td>0.006441</td>\n      <td>0.038672</td>\n      <td>0.000266</td>\n      <td>8.688445e+06</td>\n      <td>171281.459843</td>\n      <td>5186.147303</td>\n      <td>167209.252362</td>\n      <td>230.847181</td>\n      <td>9.032353e+06</td>\n    </tr>\n  </tbody>\n</table>\n</div>"
     },
     "metadata": {},
     "execution_count": 26
    }
   ],
   "source": [
    "obj_function.head()"
   ]
  },
  {
   "cell_type": "code",
   "execution_count": 27,
   "metadata": {},
   "outputs": [
    {
     "output_type": "stream",
     "name": "stdout",
     "text": [
      "3924558652.92076\n3924558652.92076\n"
     ]
    }
   ],
   "source": [
    "TOTAL = np.sum(obj_function[\"TOTAL\"])\n",
    "LAST_ERROR = np.abs(TOTAL-0)\n",
    "\n",
    "print(TOTAL)\n",
    "print(LAST_ERROR)"
   ]
  },
  {
   "cell_type": "markdown",
   "metadata": {},
   "source": [
    "#### Matrix Partition U"
   ]
  },
  {
   "cell_type": "code",
   "execution_count": 28,
   "metadata": {},
   "outputs": [],
   "source": [
    "# matrix_partition = np.power(cluster[\"CLUSTER_1\"][cluster[\"CLUSTER_1\"].columns[0:len(x_colname)]].sum(axis=1), -1)"
   ]
  },
  {
   "cell_type": "code",
   "execution_count": 29,
   "metadata": {},
   "outputs": [],
   "source": [
    "matrix_partition = pd.DataFrame()\n",
    "for i, c in enumerate(cluster_name):\n",
    "    matrix_partition[l_colname[i]] = np.power(cluster[c][cluster[c].columns[0:len(x_colname)]].sum(axis=1), -1)\n",
    "matrix_partition[\"LT\"] = matrix_partition.sum(axis=1)"
   ]
  },
  {
   "cell_type": "code",
   "execution_count": 30,
   "metadata": {},
   "outputs": [
    {
     "output_type": "execute_result",
     "data": {
      "text/plain": [
       "             L1            L2        L3            L4        L5        LT\n",
       "0  2.926376e-08  2.703430e-07  0.000001  2.464528e-07  0.000001  0.000003\n",
       "1  2.956623e-08  2.789400e-07  0.000002  2.539298e-07  0.000001  0.000004\n",
       "2  3.755506e-08  5.657045e-07  0.000003  5.010273e-07  0.000003  0.000007\n",
       "3  2.856457e-08  2.516551e-07  0.000001  2.301333e-07  0.000001  0.000003\n",
       "4  2.861469e-08  2.529634e-07  0.000001  2.312775e-07  0.000001  0.000003"
      ],
      "text/html": "<div>\n<style scoped>\n    .dataframe tbody tr th:only-of-type {\n        vertical-align: middle;\n    }\n\n    .dataframe tbody tr th {\n        vertical-align: top;\n    }\n\n    .dataframe thead th {\n        text-align: right;\n    }\n</style>\n<table border=\"1\" class=\"dataframe\">\n  <thead>\n    <tr style=\"text-align: right;\">\n      <th></th>\n      <th>L1</th>\n      <th>L2</th>\n      <th>L3</th>\n      <th>L4</th>\n      <th>L5</th>\n      <th>LT</th>\n    </tr>\n  </thead>\n  <tbody>\n    <tr>\n      <th>0</th>\n      <td>2.926376e-08</td>\n      <td>2.703430e-07</td>\n      <td>0.000001</td>\n      <td>2.464528e-07</td>\n      <td>0.000001</td>\n      <td>0.000003</td>\n    </tr>\n    <tr>\n      <th>1</th>\n      <td>2.956623e-08</td>\n      <td>2.789400e-07</td>\n      <td>0.000002</td>\n      <td>2.539298e-07</td>\n      <td>0.000001</td>\n      <td>0.000004</td>\n    </tr>\n    <tr>\n      <th>2</th>\n      <td>3.755506e-08</td>\n      <td>5.657045e-07</td>\n      <td>0.000003</td>\n      <td>5.010273e-07</td>\n      <td>0.000003</td>\n      <td>0.000007</td>\n    </tr>\n    <tr>\n      <th>3</th>\n      <td>2.856457e-08</td>\n      <td>2.516551e-07</td>\n      <td>0.000001</td>\n      <td>2.301333e-07</td>\n      <td>0.000001</td>\n      <td>0.000003</td>\n    </tr>\n    <tr>\n      <th>4</th>\n      <td>2.861469e-08</td>\n      <td>2.529634e-07</td>\n      <td>0.000001</td>\n      <td>2.312775e-07</td>\n      <td>0.000001</td>\n      <td>0.000003</td>\n    </tr>\n  </tbody>\n</table>\n</div>"
     },
     "metadata": {},
     "execution_count": 30
    }
   ],
   "source": [
    "matrix_partition.head()"
   ]
  },
  {
   "cell_type": "markdown",
   "metadata": {},
   "source": [
    "#### Update C"
   ]
  },
  {
   "cell_type": "code",
   "execution_count": 31,
   "metadata": {},
   "outputs": [],
   "source": [
    "for i, c in enumerate(c_colname):\n",
    "    c_df[c] = matrix_partition[l_colname[i]]/matrix_partition[\"LT\"]"
   ]
  },
  {
   "cell_type": "code",
   "execution_count": 32,
   "metadata": {},
   "outputs": [
    {
     "output_type": "execute_result",
     "data": {
      "text/plain": [
       "         C1        C2        C3        C4        C5\n",
       "0  0.008837  0.081638  0.433947  0.074423  0.401155\n",
       "1  0.008373  0.078996  0.437449  0.071913  0.403270\n",
       "2  0.005240  0.078925  0.428656  0.069901  0.417278\n",
       "3  0.009919  0.087386  0.426404  0.079913  0.396378\n",
       "4  0.009837  0.086960  0.426962  0.079505  0.396736"
      ],
      "text/html": "<div>\n<style scoped>\n    .dataframe tbody tr th:only-of-type {\n        vertical-align: middle;\n    }\n\n    .dataframe tbody tr th {\n        vertical-align: top;\n    }\n\n    .dataframe thead th {\n        text-align: right;\n    }\n</style>\n<table border=\"1\" class=\"dataframe\">\n  <thead>\n    <tr style=\"text-align: right;\">\n      <th></th>\n      <th>C1</th>\n      <th>C2</th>\n      <th>C3</th>\n      <th>C4</th>\n      <th>C5</th>\n    </tr>\n  </thead>\n  <tbody>\n    <tr>\n      <th>0</th>\n      <td>0.008837</td>\n      <td>0.081638</td>\n      <td>0.433947</td>\n      <td>0.074423</td>\n      <td>0.401155</td>\n    </tr>\n    <tr>\n      <th>1</th>\n      <td>0.008373</td>\n      <td>0.078996</td>\n      <td>0.437449</td>\n      <td>0.071913</td>\n      <td>0.403270</td>\n    </tr>\n    <tr>\n      <th>2</th>\n      <td>0.005240</td>\n      <td>0.078925</td>\n      <td>0.428656</td>\n      <td>0.069901</td>\n      <td>0.417278</td>\n    </tr>\n    <tr>\n      <th>3</th>\n      <td>0.009919</td>\n      <td>0.087386</td>\n      <td>0.426404</td>\n      <td>0.079913</td>\n      <td>0.396378</td>\n    </tr>\n    <tr>\n      <th>4</th>\n      <td>0.009837</td>\n      <td>0.086960</td>\n      <td>0.426962</td>\n      <td>0.079505</td>\n      <td>0.396736</td>\n    </tr>\n  </tbody>\n</table>\n</div>"
     },
     "metadata": {},
     "execution_count": 32
    }
   ],
   "source": [
    "c_df.head()"
   ]
  },
  {
   "cell_type": "markdown",
   "metadata": {},
   "source": [
    "#### Cluster Result"
   ]
  },
  {
   "cell_type": "code",
   "execution_count": 33,
   "metadata": {},
   "outputs": [],
   "source": [
    "result = pd.DataFrame()\n",
    "result[\"label\"] = df[label]\n",
    "for i, c in enumerate(c_colname):\n",
    "    result[cluster_name[i]] = np.where(c_df[c] == c_df.max(axis=1), \"1\", \"\")"
   ]
  },
  {
   "cell_type": "code",
   "execution_count": 34,
   "metadata": {},
   "outputs": [
    {
     "output_type": "execute_result",
     "data": {
      "text/plain": [
       "                                label CLUSTER_1 CLUSTER_2 CLUSTER_3 CLUSTER_4  \\\n",
       "0                         Afghanistan                             1             \n",
       "1                             Albania                             1             \n",
       "2                             Algeria                             1             \n",
       "3                             Andorra                             1             \n",
       "4                              Angola                             1             \n",
       "5                 Antigua and Barbuda                             1             \n",
       "6                           Argentina         1                                 \n",
       "7                             Armenia                             1             \n",
       "8                           Australia                             1             \n",
       "9                             Austria                             1             \n",
       "10                         Azerbaijan                             1             \n",
       "11                            Bahamas                             1             \n",
       "12                            Bahrain                             1             \n",
       "13                         Bangladesh                                       1   \n",
       "14                           Barbados                             1             \n",
       "15                            Belarus                             1             \n",
       "16                            Belgium                             1             \n",
       "17                             Belize                             1             \n",
       "18                              Benin                             1             \n",
       "19                             Bhutan                             1             \n",
       "20                            Bolivia                                           \n",
       "21             Bosnia and Herzegovina                             1             \n",
       "22                           Botswana                             1             \n",
       "23                             Brazil         1                                 \n",
       "24                             Brunei                             1             \n",
       "25                           Bulgaria                             1             \n",
       "26                       Burkina Faso                             1             \n",
       "27                              Burma                             1             \n",
       "28                            Burundi                             1             \n",
       "29                         Cabo Verde                             1             \n",
       "30                           Cambodia                             1             \n",
       "31                           Cameroon                             1             \n",
       "32                             Canada                             1             \n",
       "33           Central African Republic                             1             \n",
       "34                               Chad                             1             \n",
       "35                              Chile                                       1   \n",
       "36                              China                             1             \n",
       "37                           Colombia         1                                 \n",
       "38                            Comoros                             1             \n",
       "39                Congo (Brazzaville)                             1             \n",
       "40                   Congo (Kinshasa)                             1             \n",
       "41                         Costa Rica                             1             \n",
       "42                      Cote d'Ivoire                             1             \n",
       "43                            Croatia                             1             \n",
       "44                               Cuba                             1             \n",
       "45                             Cyprus                             1             \n",
       "46                            Czechia                             1             \n",
       "47                            Denmark                             1             \n",
       "48                           Djibouti                             1             \n",
       "49                           Dominica                             1             \n",
       "50                 Dominican Republic                   1                       \n",
       "51                            Ecuador                             1             \n",
       "52                              Egypt                             1             \n",
       "53                        El Salvador                             1             \n",
       "54                  Equatorial Guinea                             1             \n",
       "55                            Eritrea                             1             \n",
       "56                            Estonia                             1             \n",
       "57                           Eswatini                             1             \n",
       "58                           Ethiopia                             1             \n",
       "59                               Fiji                             1             \n",
       "60                            Finland                             1             \n",
       "61                             France                   1                       \n",
       "62                              Gabon                             1             \n",
       "63                             Gambia                             1             \n",
       "64                            Georgia                             1             \n",
       "65                            Germany                             1             \n",
       "66                              Ghana                             1             \n",
       "67                             Greece                             1             \n",
       "68                          Greenland                             1             \n",
       "69                            Grenada                             1             \n",
       "70                          Guatemala                             1             \n",
       "71                             Guinea                             1             \n",
       "72                      Guinea-Bissau                             1             \n",
       "73                             Guyana                             1             \n",
       "74                              Haiti                             1             \n",
       "75                           Holy See                             1             \n",
       "76                           Honduras                             1             \n",
       "77                            Hungary                             1             \n",
       "78                            Iceland                             1             \n",
       "79                              India         1                                 \n",
       "80                          Indonesia                   1                       \n",
       "81                               Iran                                       1   \n",
       "82                               Iraq                                       1   \n",
       "83                            Ireland                             1             \n",
       "84                             Israel                                           \n",
       "85                              Italy                             1             \n",
       "86                            Jamaica                             1             \n",
       "87                              Japan                             1             \n",
       "88                             Jordan                             1             \n",
       "89                         Kazakhstan                   1                       \n",
       "90                              Kenya                             1             \n",
       "91                             Kosovo                             1             \n",
       "92                             Kuwait                             1             \n",
       "93                         Kyrgyzstan                             1             \n",
       "94                               Laos                             1             \n",
       "95                             Latvia                             1             \n",
       "96                            Lebanon                             1             \n",
       "97                            Lesotho                             1             \n",
       "98                            Liberia                             1             \n",
       "99                              Libya                             1             \n",
       "100                     Liechtenstein                             1             \n",
       "101                         Lithuania                             1             \n",
       "102                        Luxembourg                             1             \n",
       "103                        Madagascar                             1             \n",
       "104                            Malawi                             1             \n",
       "105                          Malaysia                             1             \n",
       "106                          Maldives                             1             \n",
       "107                              Mali                             1             \n",
       "108                             Malta                             1             \n",
       "109                        Mauritania                             1             \n",
       "110                         Mauritius                             1             \n",
       "111                            Mexico         1                                 \n",
       "112                           Moldova                             1             \n",
       "113                            Monaco                             1             \n",
       "114                          Mongolia                             1             \n",
       "115                        Montenegro                             1             \n",
       "116                           Morocco                             1             \n",
       "117                        Mozambique                             1             \n",
       "118                           Namibia                             1             \n",
       "119                             Nepal                             1             \n",
       "120                       Netherlands                             1             \n",
       "121                       New Zealand                             1             \n",
       "122                         Nicaragua                             1             \n",
       "123                             Niger                             1             \n",
       "124                           Nigeria                             1             \n",
       "125                   North Macedonia                             1             \n",
       "126                            Norway                             1             \n",
       "127                              Oman                   1                       \n",
       "128                          Pakistan                                       1   \n",
       "129                            Panama                                           \n",
       "130                  Papua New Guinea                             1             \n",
       "131                          Paraguay                             1             \n",
       "132                              Peru         1                                 \n",
       "133                       Philippines                                           \n",
       "134                            Poland                             1             \n",
       "135                          Portugal                             1             \n",
       "136                             Qatar                             1             \n",
       "137                           Romania                             1             \n",
       "138                            Russia         1                                 \n",
       "139                            Rwanda                             1             \n",
       "140             Saint Kitts and Nevis                             1             \n",
       "141                       Saint Lucia                             1             \n",
       "142  Saint Vincent and the Grenadines                             1             \n",
       "143                        San Marino                             1             \n",
       "144             Sao Tome and Principe                             1             \n",
       "145                      Saudi Arabia                                       1   \n",
       "146                           Senegal                             1             \n",
       "147                            Serbia                             1             \n",
       "148                        Seychelles                             1             \n",
       "149                      Sierra Leone                             1             \n",
       "150                         Singapore                             1             \n",
       "151                          Slovakia                             1             \n",
       "152                          Slovenia                             1             \n",
       "153                           Somalia                             1             \n",
       "154                      South Africa         1                                 \n",
       "155                       South Korea                             1             \n",
       "156                       South Sudan                             1             \n",
       "157                             Spain                             1             \n",
       "158                         Sri Lanka                             1             \n",
       "159                             Sudan                             1             \n",
       "160                          Suriname                             1             \n",
       "161                            Sweden                             1             \n",
       "162                       Switzerland                             1             \n",
       "163                             Syria                             1             \n",
       "164                           Taiwan*                             1             \n",
       "165                        Tajikistan                             1             \n",
       "166                          Tanzania                             1             \n",
       "167                          Thailand                             1             \n",
       "168                       Timor-Leste                             1             \n",
       "169                              Togo                             1             \n",
       "170               Trinidad and Tobago                             1             \n",
       "171                           Tunisia                             1             \n",
       "172                            Turkey                                           \n",
       "173                                US         1                                 \n",
       "174                            Uganda                             1             \n",
       "175                           Ukraine                             1             \n",
       "176              United Arab Emirates                             1             \n",
       "177                    United Kingdom                             1             \n",
       "178                           Uruguay                             1             \n",
       "179                        Uzbekistan                             1             \n",
       "180                         Venezuela                             1             \n",
       "181                           Vietnam                             1             \n",
       "182                West Bank and Gaza                             1             \n",
       "183                    Western Sahara                             1             \n",
       "184                             Yemen                             1             \n",
       "185                            Zambia                             1             \n",
       "186                          Zimbabwe                             1             \n",
       "\n",
       "    CLUSTER_5  \n",
       "0              \n",
       "1              \n",
       "2              \n",
       "3              \n",
       "4              \n",
       "5              \n",
       "6              \n",
       "7              \n",
       "8              \n",
       "9              \n",
       "10             \n",
       "11             \n",
       "12             \n",
       "13             \n",
       "14             \n",
       "15             \n",
       "16             \n",
       "17             \n",
       "18             \n",
       "19             \n",
       "20          1  \n",
       "21             \n",
       "22             \n",
       "23             \n",
       "24             \n",
       "25             \n",
       "26             \n",
       "27             \n",
       "28             \n",
       "29             \n",
       "30             \n",
       "31             \n",
       "32             \n",
       "33             \n",
       "34             \n",
       "35             \n",
       "36             \n",
       "37             \n",
       "38             \n",
       "39             \n",
       "40             \n",
       "41             \n",
       "42             \n",
       "43             \n",
       "44             \n",
       "45             \n",
       "46             \n",
       "47             \n",
       "48             \n",
       "49             \n",
       "50             \n",
       "51             \n",
       "52             \n",
       "53             \n",
       "54             \n",
       "55             \n",
       "56             \n",
       "57             \n",
       "58             \n",
       "59             \n",
       "60             \n",
       "61             \n",
       "62             \n",
       "63             \n",
       "64             \n",
       "65             \n",
       "66             \n",
       "67             \n",
       "68             \n",
       "69             \n",
       "70             \n",
       "71             \n",
       "72             \n",
       "73             \n",
       "74             \n",
       "75             \n",
       "76             \n",
       "77             \n",
       "78             \n",
       "79             \n",
       "80             \n",
       "81             \n",
       "82             \n",
       "83             \n",
       "84          1  \n",
       "85             \n",
       "86             \n",
       "87             \n",
       "88             \n",
       "89             \n",
       "90             \n",
       "91             \n",
       "92             \n",
       "93             \n",
       "94             \n",
       "95             \n",
       "96             \n",
       "97             \n",
       "98             \n",
       "99             \n",
       "100            \n",
       "101            \n",
       "102            \n",
       "103            \n",
       "104            \n",
       "105            \n",
       "106            \n",
       "107            \n",
       "108            \n",
       "109            \n",
       "110            \n",
       "111            \n",
       "112            \n",
       "113            \n",
       "114            \n",
       "115            \n",
       "116            \n",
       "117            \n",
       "118            \n",
       "119            \n",
       "120            \n",
       "121            \n",
       "122            \n",
       "123            \n",
       "124            \n",
       "125            \n",
       "126            \n",
       "127            \n",
       "128            \n",
       "129         1  \n",
       "130            \n",
       "131            \n",
       "132            \n",
       "133         1  \n",
       "134            \n",
       "135            \n",
       "136            \n",
       "137            \n",
       "138            \n",
       "139            \n",
       "140            \n",
       "141            \n",
       "142            \n",
       "143            \n",
       "144            \n",
       "145            \n",
       "146            \n",
       "147            \n",
       "148            \n",
       "149            \n",
       "150            \n",
       "151            \n",
       "152            \n",
       "153            \n",
       "154            \n",
       "155            \n",
       "156            \n",
       "157            \n",
       "158            \n",
       "159            \n",
       "160            \n",
       "161            \n",
       "162            \n",
       "163            \n",
       "164            \n",
       "165            \n",
       "166            \n",
       "167            \n",
       "168            \n",
       "169            \n",
       "170            \n",
       "171            \n",
       "172         1  \n",
       "173            \n",
       "174            \n",
       "175            \n",
       "176            \n",
       "177            \n",
       "178            \n",
       "179            \n",
       "180            \n",
       "181            \n",
       "182            \n",
       "183            \n",
       "184            \n",
       "185            \n",
       "186            "
      ],
      "text/html": "<div>\n<style scoped>\n    .dataframe tbody tr th:only-of-type {\n        vertical-align: middle;\n    }\n\n    .dataframe tbody tr th {\n        vertical-align: top;\n    }\n\n    .dataframe thead th {\n        text-align: right;\n    }\n</style>\n<table border=\"1\" class=\"dataframe\">\n  <thead>\n    <tr style=\"text-align: right;\">\n      <th></th>\n      <th>label</th>\n      <th>CLUSTER_1</th>\n      <th>CLUSTER_2</th>\n      <th>CLUSTER_3</th>\n      <th>CLUSTER_4</th>\n      <th>CLUSTER_5</th>\n    </tr>\n  </thead>\n  <tbody>\n    <tr>\n      <th>0</th>\n      <td>Afghanistan</td>\n      <td></td>\n      <td></td>\n      <td>1</td>\n      <td></td>\n      <td></td>\n    </tr>\n    <tr>\n      <th>1</th>\n      <td>Albania</td>\n      <td></td>\n      <td></td>\n      <td>1</td>\n      <td></td>\n      <td></td>\n    </tr>\n    <tr>\n      <th>2</th>\n      <td>Algeria</td>\n      <td></td>\n      <td></td>\n      <td>1</td>\n      <td></td>\n      <td></td>\n    </tr>\n    <tr>\n      <th>3</th>\n      <td>Andorra</td>\n      <td></td>\n      <td></td>\n      <td>1</td>\n      <td></td>\n      <td></td>\n    </tr>\n    <tr>\n      <th>4</th>\n      <td>Angola</td>\n      <td></td>\n      <td></td>\n      <td>1</td>\n      <td></td>\n      <td></td>\n    </tr>\n    <tr>\n      <th>5</th>\n      <td>Antigua and Barbuda</td>\n      <td></td>\n      <td></td>\n      <td>1</td>\n      <td></td>\n      <td></td>\n    </tr>\n    <tr>\n      <th>6</th>\n      <td>Argentina</td>\n      <td>1</td>\n      <td></td>\n      <td></td>\n      <td></td>\n      <td></td>\n    </tr>\n    <tr>\n      <th>7</th>\n      <td>Armenia</td>\n      <td></td>\n      <td></td>\n      <td>1</td>\n      <td></td>\n      <td></td>\n    </tr>\n    <tr>\n      <th>8</th>\n      <td>Australia</td>\n      <td></td>\n      <td></td>\n      <td>1</td>\n      <td></td>\n      <td></td>\n    </tr>\n    <tr>\n      <th>9</th>\n      <td>Austria</td>\n      <td></td>\n      <td></td>\n      <td>1</td>\n      <td></td>\n      <td></td>\n    </tr>\n    <tr>\n      <th>10</th>\n      <td>Azerbaijan</td>\n      <td></td>\n      <td></td>\n      <td>1</td>\n      <td></td>\n      <td></td>\n    </tr>\n    <tr>\n      <th>11</th>\n      <td>Bahamas</td>\n      <td></td>\n      <td></td>\n      <td>1</td>\n      <td></td>\n      <td></td>\n    </tr>\n    <tr>\n      <th>12</th>\n      <td>Bahrain</td>\n      <td></td>\n      <td></td>\n      <td>1</td>\n      <td></td>\n      <td></td>\n    </tr>\n    <tr>\n      <th>13</th>\n      <td>Bangladesh</td>\n      <td></td>\n      <td></td>\n      <td></td>\n      <td>1</td>\n      <td></td>\n    </tr>\n    <tr>\n      <th>14</th>\n      <td>Barbados</td>\n      <td></td>\n      <td></td>\n      <td>1</td>\n      <td></td>\n      <td></td>\n    </tr>\n    <tr>\n      <th>15</th>\n      <td>Belarus</td>\n      <td></td>\n      <td></td>\n      <td>1</td>\n      <td></td>\n      <td></td>\n    </tr>\n    <tr>\n      <th>16</th>\n      <td>Belgium</td>\n      <td></td>\n      <td></td>\n      <td>1</td>\n      <td></td>\n      <td></td>\n    </tr>\n    <tr>\n      <th>17</th>\n      <td>Belize</td>\n      <td></td>\n      <td></td>\n      <td>1</td>\n      <td></td>\n      <td></td>\n    </tr>\n    <tr>\n      <th>18</th>\n      <td>Benin</td>\n      <td></td>\n      <td></td>\n      <td>1</td>\n      <td></td>\n      <td></td>\n    </tr>\n    <tr>\n      <th>19</th>\n      <td>Bhutan</td>\n      <td></td>\n      <td></td>\n      <td>1</td>\n      <td></td>\n      <td></td>\n    </tr>\n    <tr>\n      <th>20</th>\n      <td>Bolivia</td>\n      <td></td>\n      <td></td>\n      <td></td>\n      <td></td>\n      <td>1</td>\n    </tr>\n    <tr>\n      <th>21</th>\n      <td>Bosnia and Herzegovina</td>\n      <td></td>\n      <td></td>\n      <td>1</td>\n      <td></td>\n      <td></td>\n    </tr>\n    <tr>\n      <th>22</th>\n      <td>Botswana</td>\n      <td></td>\n      <td></td>\n      <td>1</td>\n      <td></td>\n      <td></td>\n    </tr>\n    <tr>\n      <th>23</th>\n      <td>Brazil</td>\n      <td>1</td>\n      <td></td>\n      <td></td>\n      <td></td>\n      <td></td>\n    </tr>\n    <tr>\n      <th>24</th>\n      <td>Brunei</td>\n      <td></td>\n      <td></td>\n      <td>1</td>\n      <td></td>\n      <td></td>\n    </tr>\n    <tr>\n      <th>25</th>\n      <td>Bulgaria</td>\n      <td></td>\n      <td></td>\n      <td>1</td>\n      <td></td>\n      <td></td>\n    </tr>\n    <tr>\n      <th>26</th>\n      <td>Burkina Faso</td>\n      <td></td>\n      <td></td>\n      <td>1</td>\n      <td></td>\n      <td></td>\n    </tr>\n    <tr>\n      <th>27</th>\n      <td>Burma</td>\n      <td></td>\n      <td></td>\n      <td>1</td>\n      <td></td>\n      <td></td>\n    </tr>\n    <tr>\n      <th>28</th>\n      <td>Burundi</td>\n      <td></td>\n      <td></td>\n      <td>1</td>\n      <td></td>\n      <td></td>\n    </tr>\n    <tr>\n      <th>29</th>\n      <td>Cabo Verde</td>\n      <td></td>\n      <td></td>\n      <td>1</td>\n      <td></td>\n      <td></td>\n    </tr>\n    <tr>\n      <th>30</th>\n      <td>Cambodia</td>\n      <td></td>\n      <td></td>\n      <td>1</td>\n      <td></td>\n      <td></td>\n    </tr>\n    <tr>\n      <th>31</th>\n      <td>Cameroon</td>\n      <td></td>\n      <td></td>\n      <td>1</td>\n      <td></td>\n      <td></td>\n    </tr>\n    <tr>\n      <th>32</th>\n      <td>Canada</td>\n      <td></td>\n      <td></td>\n      <td>1</td>\n      <td></td>\n      <td></td>\n    </tr>\n    <tr>\n      <th>33</th>\n      <td>Central African Republic</td>\n      <td></td>\n      <td></td>\n      <td>1</td>\n      <td></td>\n      <td></td>\n    </tr>\n    <tr>\n      <th>34</th>\n      <td>Chad</td>\n      <td></td>\n      <td></td>\n      <td>1</td>\n      <td></td>\n      <td></td>\n    </tr>\n    <tr>\n      <th>35</th>\n      <td>Chile</td>\n      <td></td>\n      <td></td>\n      <td></td>\n      <td>1</td>\n      <td></td>\n    </tr>\n    <tr>\n      <th>36</th>\n      <td>China</td>\n      <td></td>\n      <td></td>\n      <td>1</td>\n      <td></td>\n      <td></td>\n    </tr>\n    <tr>\n      <th>37</th>\n      <td>Colombia</td>\n      <td>1</td>\n      <td></td>\n      <td></td>\n      <td></td>\n      <td></td>\n    </tr>\n    <tr>\n      <th>38</th>\n      <td>Comoros</td>\n      <td></td>\n      <td></td>\n      <td>1</td>\n      <td></td>\n      <td></td>\n    </tr>\n    <tr>\n      <th>39</th>\n      <td>Congo (Brazzaville)</td>\n      <td></td>\n      <td></td>\n      <td>1</td>\n      <td></td>\n      <td></td>\n    </tr>\n    <tr>\n      <th>40</th>\n      <td>Congo (Kinshasa)</td>\n      <td></td>\n      <td></td>\n      <td>1</td>\n      <td></td>\n      <td></td>\n    </tr>\n    <tr>\n      <th>41</th>\n      <td>Costa Rica</td>\n      <td></td>\n      <td></td>\n      <td>1</td>\n      <td></td>\n      <td></td>\n    </tr>\n    <tr>\n      <th>42</th>\n      <td>Cote d'Ivoire</td>\n      <td></td>\n      <td></td>\n      <td>1</td>\n      <td></td>\n      <td></td>\n    </tr>\n    <tr>\n      <th>43</th>\n      <td>Croatia</td>\n      <td></td>\n      <td></td>\n      <td>1</td>\n      <td></td>\n      <td></td>\n    </tr>\n    <tr>\n      <th>44</th>\n      <td>Cuba</td>\n      <td></td>\n      <td></td>\n      <td>1</td>\n      <td></td>\n      <td></td>\n    </tr>\n    <tr>\n      <th>45</th>\n      <td>Cyprus</td>\n      <td></td>\n      <td></td>\n      <td>1</td>\n      <td></td>\n      <td></td>\n    </tr>\n    <tr>\n      <th>46</th>\n      <td>Czechia</td>\n      <td></td>\n      <td></td>\n      <td>1</td>\n      <td></td>\n      <td></td>\n    </tr>\n    <tr>\n      <th>47</th>\n      <td>Denmark</td>\n      <td></td>\n      <td></td>\n      <td>1</td>\n      <td></td>\n      <td></td>\n    </tr>\n    <tr>\n      <th>48</th>\n      <td>Djibouti</td>\n      <td></td>\n      <td></td>\n      <td>1</td>\n      <td></td>\n      <td></td>\n    </tr>\n    <tr>\n      <th>49</th>\n      <td>Dominica</td>\n      <td></td>\n      <td></td>\n      <td>1</td>\n      <td></td>\n      <td></td>\n    </tr>\n    <tr>\n      <th>50</th>\n      <td>Dominican Republic</td>\n      <td></td>\n      <td>1</td>\n      <td></td>\n      <td></td>\n      <td></td>\n    </tr>\n    <tr>\n      <th>51</th>\n      <td>Ecuador</td>\n      <td></td>\n      <td></td>\n      <td>1</td>\n      <td></td>\n      <td></td>\n    </tr>\n    <tr>\n      <th>52</th>\n      <td>Egypt</td>\n      <td></td>\n      <td></td>\n      <td>1</td>\n      <td></td>\n      <td></td>\n    </tr>\n    <tr>\n      <th>53</th>\n      <td>El Salvador</td>\n      <td></td>\n      <td></td>\n      <td>1</td>\n      <td></td>\n      <td></td>\n    </tr>\n    <tr>\n      <th>54</th>\n      <td>Equatorial Guinea</td>\n      <td></td>\n      <td></td>\n      <td>1</td>\n      <td></td>\n      <td></td>\n    </tr>\n    <tr>\n      <th>55</th>\n      <td>Eritrea</td>\n      <td></td>\n      <td></td>\n      <td>1</td>\n      <td></td>\n      <td></td>\n    </tr>\n    <tr>\n      <th>56</th>\n      <td>Estonia</td>\n      <td></td>\n      <td></td>\n      <td>1</td>\n      <td></td>\n      <td></td>\n    </tr>\n    <tr>\n      <th>57</th>\n      <td>Eswatini</td>\n      <td></td>\n      <td></td>\n      <td>1</td>\n      <td></td>\n      <td></td>\n    </tr>\n    <tr>\n      <th>58</th>\n      <td>Ethiopia</td>\n      <td></td>\n      <td></td>\n      <td>1</td>\n      <td></td>\n      <td></td>\n    </tr>\n    <tr>\n      <th>59</th>\n      <td>Fiji</td>\n      <td></td>\n      <td></td>\n      <td>1</td>\n      <td></td>\n      <td></td>\n    </tr>\n    <tr>\n      <th>60</th>\n      <td>Finland</td>\n      <td></td>\n      <td></td>\n      <td>1</td>\n      <td></td>\n      <td></td>\n    </tr>\n    <tr>\n      <th>61</th>\n      <td>France</td>\n      <td></td>\n      <td>1</td>\n      <td></td>\n      <td></td>\n      <td></td>\n    </tr>\n    <tr>\n      <th>62</th>\n      <td>Gabon</td>\n      <td></td>\n      <td></td>\n      <td>1</td>\n      <td></td>\n      <td></td>\n    </tr>\n    <tr>\n      <th>63</th>\n      <td>Gambia</td>\n      <td></td>\n      <td></td>\n      <td>1</td>\n      <td></td>\n      <td></td>\n    </tr>\n    <tr>\n      <th>64</th>\n      <td>Georgia</td>\n      <td></td>\n      <td></td>\n      <td>1</td>\n      <td></td>\n      <td></td>\n    </tr>\n    <tr>\n      <th>65</th>\n      <td>Germany</td>\n      <td></td>\n      <td></td>\n      <td>1</td>\n      <td></td>\n      <td></td>\n    </tr>\n    <tr>\n      <th>66</th>\n      <td>Ghana</td>\n      <td></td>\n      <td></td>\n      <td>1</td>\n      <td></td>\n      <td></td>\n    </tr>\n    <tr>\n      <th>67</th>\n      <td>Greece</td>\n      <td></td>\n      <td></td>\n      <td>1</td>\n      <td></td>\n      <td></td>\n    </tr>\n    <tr>\n      <th>68</th>\n      <td>Greenland</td>\n      <td></td>\n      <td></td>\n      <td>1</td>\n      <td></td>\n      <td></td>\n    </tr>\n    <tr>\n      <th>69</th>\n      <td>Grenada</td>\n      <td></td>\n      <td></td>\n      <td>1</td>\n      <td></td>\n      <td></td>\n    </tr>\n    <tr>\n      <th>70</th>\n      <td>Guatemala</td>\n      <td></td>\n      <td></td>\n      <td>1</td>\n      <td></td>\n      <td></td>\n    </tr>\n    <tr>\n      <th>71</th>\n      <td>Guinea</td>\n      <td></td>\n      <td></td>\n      <td>1</td>\n      <td></td>\n      <td></td>\n    </tr>\n    <tr>\n      <th>72</th>\n      <td>Guinea-Bissau</td>\n      <td></td>\n      <td></td>\n      <td>1</td>\n      <td></td>\n      <td></td>\n    </tr>\n    <tr>\n      <th>73</th>\n      <td>Guyana</td>\n      <td></td>\n      <td></td>\n      <td>1</td>\n      <td></td>\n      <td></td>\n    </tr>\n    <tr>\n      <th>74</th>\n      <td>Haiti</td>\n      <td></td>\n      <td></td>\n      <td>1</td>\n      <td></td>\n      <td></td>\n    </tr>\n    <tr>\n      <th>75</th>\n      <td>Holy See</td>\n      <td></td>\n      <td></td>\n      <td>1</td>\n      <td></td>\n      <td></td>\n    </tr>\n    <tr>\n      <th>76</th>\n      <td>Honduras</td>\n      <td></td>\n      <td></td>\n      <td>1</td>\n      <td></td>\n      <td></td>\n    </tr>\n    <tr>\n      <th>77</th>\n      <td>Hungary</td>\n      <td></td>\n      <td></td>\n      <td>1</td>\n      <td></td>\n      <td></td>\n    </tr>\n    <tr>\n      <th>78</th>\n      <td>Iceland</td>\n      <td></td>\n      <td></td>\n      <td>1</td>\n      <td></td>\n      <td></td>\n    </tr>\n    <tr>\n      <th>79</th>\n      <td>India</td>\n      <td>1</td>\n      <td></td>\n      <td></td>\n      <td></td>\n      <td></td>\n    </tr>\n    <tr>\n      <th>80</th>\n      <td>Indonesia</td>\n      <td></td>\n      <td>1</td>\n      <td></td>\n      <td></td>\n      <td></td>\n    </tr>\n    <tr>\n      <th>81</th>\n      <td>Iran</td>\n      <td></td>\n      <td></td>\n      <td></td>\n      <td>1</td>\n      <td></td>\n    </tr>\n    <tr>\n      <th>82</th>\n      <td>Iraq</td>\n      <td></td>\n      <td></td>\n      <td></td>\n      <td>1</td>\n      <td></td>\n    </tr>\n    <tr>\n      <th>83</th>\n      <td>Ireland</td>\n      <td></td>\n      <td></td>\n      <td>1</td>\n      <td></td>\n      <td></td>\n    </tr>\n    <tr>\n      <th>84</th>\n      <td>Israel</td>\n      <td></td>\n      <td></td>\n      <td></td>\n      <td></td>\n      <td>1</td>\n    </tr>\n    <tr>\n      <th>85</th>\n      <td>Italy</td>\n      <td></td>\n      <td></td>\n      <td>1</td>\n      <td></td>\n      <td></td>\n    </tr>\n    <tr>\n      <th>86</th>\n      <td>Jamaica</td>\n      <td></td>\n      <td></td>\n      <td>1</td>\n      <td></td>\n      <td></td>\n    </tr>\n    <tr>\n      <th>87</th>\n      <td>Japan</td>\n      <td></td>\n      <td></td>\n      <td>1</td>\n      <td></td>\n      <td></td>\n    </tr>\n    <tr>\n      <th>88</th>\n      <td>Jordan</td>\n      <td></td>\n      <td></td>\n      <td>1</td>\n      <td></td>\n      <td></td>\n    </tr>\n    <tr>\n      <th>89</th>\n      <td>Kazakhstan</td>\n      <td></td>\n      <td>1</td>\n      <td></td>\n      <td></td>\n      <td></td>\n    </tr>\n    <tr>\n      <th>90</th>\n      <td>Kenya</td>\n      <td></td>\n      <td></td>\n      <td>1</td>\n      <td></td>\n      <td></td>\n    </tr>\n    <tr>\n      <th>91</th>\n      <td>Kosovo</td>\n      <td></td>\n      <td></td>\n      <td>1</td>\n      <td></td>\n      <td></td>\n    </tr>\n    <tr>\n      <th>92</th>\n      <td>Kuwait</td>\n      <td></td>\n      <td></td>\n      <td>1</td>\n      <td></td>\n      <td></td>\n    </tr>\n    <tr>\n      <th>93</th>\n      <td>Kyrgyzstan</td>\n      <td></td>\n      <td></td>\n      <td>1</td>\n      <td></td>\n      <td></td>\n    </tr>\n    <tr>\n      <th>94</th>\n      <td>Laos</td>\n      <td></td>\n      <td></td>\n      <td>1</td>\n      <td></td>\n      <td></td>\n    </tr>\n    <tr>\n      <th>95</th>\n      <td>Latvia</td>\n      <td></td>\n      <td></td>\n      <td>1</td>\n      <td></td>\n      <td></td>\n    </tr>\n    <tr>\n      <th>96</th>\n      <td>Lebanon</td>\n      <td></td>\n      <td></td>\n      <td>1</td>\n      <td></td>\n      <td></td>\n    </tr>\n    <tr>\n      <th>97</th>\n      <td>Lesotho</td>\n      <td></td>\n      <td></td>\n      <td>1</td>\n      <td></td>\n      <td></td>\n    </tr>\n    <tr>\n      <th>98</th>\n      <td>Liberia</td>\n      <td></td>\n      <td></td>\n      <td>1</td>\n      <td></td>\n      <td></td>\n    </tr>\n    <tr>\n      <th>99</th>\n      <td>Libya</td>\n      <td></td>\n      <td></td>\n      <td>1</td>\n      <td></td>\n      <td></td>\n    </tr>\n    <tr>\n      <th>100</th>\n      <td>Liechtenstein</td>\n      <td></td>\n      <td></td>\n      <td>1</td>\n      <td></td>\n      <td></td>\n    </tr>\n    <tr>\n      <th>101</th>\n      <td>Lithuania</td>\n      <td></td>\n      <td></td>\n      <td>1</td>\n      <td></td>\n      <td></td>\n    </tr>\n    <tr>\n      <th>102</th>\n      <td>Luxembourg</td>\n      <td></td>\n      <td></td>\n      <td>1</td>\n      <td></td>\n      <td></td>\n    </tr>\n    <tr>\n      <th>103</th>\n      <td>Madagascar</td>\n      <td></td>\n      <td></td>\n      <td>1</td>\n      <td></td>\n      <td></td>\n    </tr>\n    <tr>\n      <th>104</th>\n      <td>Malawi</td>\n      <td></td>\n      <td></td>\n      <td>1</td>\n      <td></td>\n      <td></td>\n    </tr>\n    <tr>\n      <th>105</th>\n      <td>Malaysia</td>\n      <td></td>\n      <td></td>\n      <td>1</td>\n      <td></td>\n      <td></td>\n    </tr>\n    <tr>\n      <th>106</th>\n      <td>Maldives</td>\n      <td></td>\n      <td></td>\n      <td>1</td>\n      <td></td>\n      <td></td>\n    </tr>\n    <tr>\n      <th>107</th>\n      <td>Mali</td>\n      <td></td>\n      <td></td>\n      <td>1</td>\n      <td></td>\n      <td></td>\n    </tr>\n    <tr>\n      <th>108</th>\n      <td>Malta</td>\n      <td></td>\n      <td></td>\n      <td>1</td>\n      <td></td>\n      <td></td>\n    </tr>\n    <tr>\n      <th>109</th>\n      <td>Mauritania</td>\n      <td></td>\n      <td></td>\n      <td>1</td>\n      <td></td>\n      <td></td>\n    </tr>\n    <tr>\n      <th>110</th>\n      <td>Mauritius</td>\n      <td></td>\n      <td></td>\n      <td>1</td>\n      <td></td>\n      <td></td>\n    </tr>\n    <tr>\n      <th>111</th>\n      <td>Mexico</td>\n      <td>1</td>\n      <td></td>\n      <td></td>\n      <td></td>\n      <td></td>\n    </tr>\n    <tr>\n      <th>112</th>\n      <td>Moldova</td>\n      <td></td>\n      <td></td>\n      <td>1</td>\n      <td></td>\n      <td></td>\n    </tr>\n    <tr>\n      <th>113</th>\n      <td>Monaco</td>\n      <td></td>\n      <td></td>\n      <td>1</td>\n      <td></td>\n      <td></td>\n    </tr>\n    <tr>\n      <th>114</th>\n      <td>Mongolia</td>\n      <td></td>\n      <td></td>\n      <td>1</td>\n      <td></td>\n      <td></td>\n    </tr>\n    <tr>\n      <th>115</th>\n      <td>Montenegro</td>\n      <td></td>\n      <td></td>\n      <td>1</td>\n      <td></td>\n      <td></td>\n    </tr>\n    <tr>\n      <th>116</th>\n      <td>Morocco</td>\n      <td></td>\n      <td></td>\n      <td>1</td>\n      <td></td>\n      <td></td>\n    </tr>\n    <tr>\n      <th>117</th>\n      <td>Mozambique</td>\n      <td></td>\n      <td></td>\n      <td>1</td>\n      <td></td>\n      <td></td>\n    </tr>\n    <tr>\n      <th>118</th>\n      <td>Namibia</td>\n      <td></td>\n      <td></td>\n      <td>1</td>\n      <td></td>\n      <td></td>\n    </tr>\n    <tr>\n      <th>119</th>\n      <td>Nepal</td>\n      <td></td>\n      <td></td>\n      <td>1</td>\n      <td></td>\n      <td></td>\n    </tr>\n    <tr>\n      <th>120</th>\n      <td>Netherlands</td>\n      <td></td>\n      <td></td>\n      <td>1</td>\n      <td></td>\n      <td></td>\n    </tr>\n    <tr>\n      <th>121</th>\n      <td>New Zealand</td>\n      <td></td>\n      <td></td>\n      <td>1</td>\n      <td></td>\n      <td></td>\n    </tr>\n    <tr>\n      <th>122</th>\n      <td>Nicaragua</td>\n      <td></td>\n      <td></td>\n      <td>1</td>\n      <td></td>\n      <td></td>\n    </tr>\n    <tr>\n      <th>123</th>\n      <td>Niger</td>\n      <td></td>\n      <td></td>\n      <td>1</td>\n      <td></td>\n      <td></td>\n    </tr>\n    <tr>\n      <th>124</th>\n      <td>Nigeria</td>\n      <td></td>\n      <td></td>\n      <td>1</td>\n      <td></td>\n      <td></td>\n    </tr>\n    <tr>\n      <th>125</th>\n      <td>North Macedonia</td>\n      <td></td>\n      <td></td>\n      <td>1</td>\n      <td></td>\n      <td></td>\n    </tr>\n    <tr>\n      <th>126</th>\n      <td>Norway</td>\n      <td></td>\n      <td></td>\n      <td>1</td>\n      <td></td>\n      <td></td>\n    </tr>\n    <tr>\n      <th>127</th>\n      <td>Oman</td>\n      <td></td>\n      <td>1</td>\n      <td></td>\n      <td></td>\n      <td></td>\n    </tr>\n    <tr>\n      <th>128</th>\n      <td>Pakistan</td>\n      <td></td>\n      <td></td>\n      <td></td>\n      <td>1</td>\n      <td></td>\n    </tr>\n    <tr>\n      <th>129</th>\n      <td>Panama</td>\n      <td></td>\n      <td></td>\n      <td></td>\n      <td></td>\n      <td>1</td>\n    </tr>\n    <tr>\n      <th>130</th>\n      <td>Papua New Guinea</td>\n      <td></td>\n      <td></td>\n      <td>1</td>\n      <td></td>\n      <td></td>\n    </tr>\n    <tr>\n      <th>131</th>\n      <td>Paraguay</td>\n      <td></td>\n      <td></td>\n      <td>1</td>\n      <td></td>\n      <td></td>\n    </tr>\n    <tr>\n      <th>132</th>\n      <td>Peru</td>\n      <td>1</td>\n      <td></td>\n      <td></td>\n      <td></td>\n      <td></td>\n    </tr>\n    <tr>\n      <th>133</th>\n      <td>Philippines</td>\n      <td></td>\n      <td></td>\n      <td></td>\n      <td></td>\n      <td>1</td>\n    </tr>\n    <tr>\n      <th>134</th>\n      <td>Poland</td>\n      <td></td>\n      <td></td>\n      <td>1</td>\n      <td></td>\n      <td></td>\n    </tr>\n    <tr>\n      <th>135</th>\n      <td>Portugal</td>\n      <td></td>\n      <td></td>\n      <td>1</td>\n      <td></td>\n      <td></td>\n    </tr>\n    <tr>\n      <th>136</th>\n      <td>Qatar</td>\n      <td></td>\n      <td></td>\n      <td>1</td>\n      <td></td>\n      <td></td>\n    </tr>\n    <tr>\n      <th>137</th>\n      <td>Romania</td>\n      <td></td>\n      <td></td>\n      <td>1</td>\n      <td></td>\n      <td></td>\n    </tr>\n    <tr>\n      <th>138</th>\n      <td>Russia</td>\n      <td>1</td>\n      <td></td>\n      <td></td>\n      <td></td>\n      <td></td>\n    </tr>\n    <tr>\n      <th>139</th>\n      <td>Rwanda</td>\n      <td></td>\n      <td></td>\n      <td>1</td>\n      <td></td>\n      <td></td>\n    </tr>\n    <tr>\n      <th>140</th>\n      <td>Saint Kitts and Nevis</td>\n      <td></td>\n      <td></td>\n      <td>1</td>\n      <td></td>\n      <td></td>\n    </tr>\n    <tr>\n      <th>141</th>\n      <td>Saint Lucia</td>\n      <td></td>\n      <td></td>\n      <td>1</td>\n      <td></td>\n      <td></td>\n    </tr>\n    <tr>\n      <th>142</th>\n      <td>Saint Vincent and the Grenadines</td>\n      <td></td>\n      <td></td>\n      <td>1</td>\n      <td></td>\n      <td></td>\n    </tr>\n    <tr>\n      <th>143</th>\n      <td>San Marino</td>\n      <td></td>\n      <td></td>\n      <td>1</td>\n      <td></td>\n      <td></td>\n    </tr>\n    <tr>\n      <th>144</th>\n      <td>Sao Tome and Principe</td>\n      <td></td>\n      <td></td>\n      <td>1</td>\n      <td></td>\n      <td></td>\n    </tr>\n    <tr>\n      <th>145</th>\n      <td>Saudi Arabia</td>\n      <td></td>\n      <td></td>\n      <td></td>\n      <td>1</td>\n      <td></td>\n    </tr>\n    <tr>\n      <th>146</th>\n      <td>Senegal</td>\n      <td></td>\n      <td></td>\n      <td>1</td>\n      <td></td>\n      <td></td>\n    </tr>\n    <tr>\n      <th>147</th>\n      <td>Serbia</td>\n      <td></td>\n      <td></td>\n      <td>1</td>\n      <td></td>\n      <td></td>\n    </tr>\n    <tr>\n      <th>148</th>\n      <td>Seychelles</td>\n      <td></td>\n      <td></td>\n      <td>1</td>\n      <td></td>\n      <td></td>\n    </tr>\n    <tr>\n      <th>149</th>\n      <td>Sierra Leone</td>\n      <td></td>\n      <td></td>\n      <td>1</td>\n      <td></td>\n      <td></td>\n    </tr>\n    <tr>\n      <th>150</th>\n      <td>Singapore</td>\n      <td></td>\n      <td></td>\n      <td>1</td>\n      <td></td>\n      <td></td>\n    </tr>\n    <tr>\n      <th>151</th>\n      <td>Slovakia</td>\n      <td></td>\n      <td></td>\n      <td>1</td>\n      <td></td>\n      <td></td>\n    </tr>\n    <tr>\n      <th>152</th>\n      <td>Slovenia</td>\n      <td></td>\n      <td></td>\n      <td>1</td>\n      <td></td>\n      <td></td>\n    </tr>\n    <tr>\n      <th>153</th>\n      <td>Somalia</td>\n      <td></td>\n      <td></td>\n      <td>1</td>\n      <td></td>\n      <td></td>\n    </tr>\n    <tr>\n      <th>154</th>\n      <td>South Africa</td>\n      <td>1</td>\n      <td></td>\n      <td></td>\n      <td></td>\n      <td></td>\n    </tr>\n    <tr>\n      <th>155</th>\n      <td>South Korea</td>\n      <td></td>\n      <td></td>\n      <td>1</td>\n      <td></td>\n      <td></td>\n    </tr>\n    <tr>\n      <th>156</th>\n      <td>South Sudan</td>\n      <td></td>\n      <td></td>\n      <td>1</td>\n      <td></td>\n      <td></td>\n    </tr>\n    <tr>\n      <th>157</th>\n      <td>Spain</td>\n      <td></td>\n      <td></td>\n      <td>1</td>\n      <td></td>\n      <td></td>\n    </tr>\n    <tr>\n      <th>158</th>\n      <td>Sri Lanka</td>\n      <td></td>\n      <td></td>\n      <td>1</td>\n      <td></td>\n      <td></td>\n    </tr>\n    <tr>\n      <th>159</th>\n      <td>Sudan</td>\n      <td></td>\n      <td></td>\n      <td>1</td>\n      <td></td>\n      <td></td>\n    </tr>\n    <tr>\n      <th>160</th>\n      <td>Suriname</td>\n      <td></td>\n      <td></td>\n      <td>1</td>\n      <td></td>\n      <td></td>\n    </tr>\n    <tr>\n      <th>161</th>\n      <td>Sweden</td>\n      <td></td>\n      <td></td>\n      <td>1</td>\n      <td></td>\n      <td></td>\n    </tr>\n    <tr>\n      <th>162</th>\n      <td>Switzerland</td>\n      <td></td>\n      <td></td>\n      <td>1</td>\n      <td></td>\n      <td></td>\n    </tr>\n    <tr>\n      <th>163</th>\n      <td>Syria</td>\n      <td></td>\n      <td></td>\n      <td>1</td>\n      <td></td>\n      <td></td>\n    </tr>\n    <tr>\n      <th>164</th>\n      <td>Taiwan*</td>\n      <td></td>\n      <td></td>\n      <td>1</td>\n      <td></td>\n      <td></td>\n    </tr>\n    <tr>\n      <th>165</th>\n      <td>Tajikistan</td>\n      <td></td>\n      <td></td>\n      <td>1</td>\n      <td></td>\n      <td></td>\n    </tr>\n    <tr>\n      <th>166</th>\n      <td>Tanzania</td>\n      <td></td>\n      <td></td>\n      <td>1</td>\n      <td></td>\n      <td></td>\n    </tr>\n    <tr>\n      <th>167</th>\n      <td>Thailand</td>\n      <td></td>\n      <td></td>\n      <td>1</td>\n      <td></td>\n      <td></td>\n    </tr>\n    <tr>\n      <th>168</th>\n      <td>Timor-Leste</td>\n      <td></td>\n      <td></td>\n      <td>1</td>\n      <td></td>\n      <td></td>\n    </tr>\n    <tr>\n      <th>169</th>\n      <td>Togo</td>\n      <td></td>\n      <td></td>\n      <td>1</td>\n      <td></td>\n      <td></td>\n    </tr>\n    <tr>\n      <th>170</th>\n      <td>Trinidad and Tobago</td>\n      <td></td>\n      <td></td>\n      <td>1</td>\n      <td></td>\n      <td></td>\n    </tr>\n    <tr>\n      <th>171</th>\n      <td>Tunisia</td>\n      <td></td>\n      <td></td>\n      <td>1</td>\n      <td></td>\n      <td></td>\n    </tr>\n    <tr>\n      <th>172</th>\n      <td>Turkey</td>\n      <td></td>\n      <td></td>\n      <td></td>\n      <td></td>\n      <td>1</td>\n    </tr>\n    <tr>\n      <th>173</th>\n      <td>US</td>\n      <td>1</td>\n      <td></td>\n      <td></td>\n      <td></td>\n      <td></td>\n    </tr>\n    <tr>\n      <th>174</th>\n      <td>Uganda</td>\n      <td></td>\n      <td></td>\n      <td>1</td>\n      <td></td>\n      <td></td>\n    </tr>\n    <tr>\n      <th>175</th>\n      <td>Ukraine</td>\n      <td></td>\n      <td></td>\n      <td>1</td>\n      <td></td>\n      <td></td>\n    </tr>\n    <tr>\n      <th>176</th>\n      <td>United Arab Emirates</td>\n      <td></td>\n      <td></td>\n      <td>1</td>\n      <td></td>\n      <td></td>\n    </tr>\n    <tr>\n      <th>177</th>\n      <td>United Kingdom</td>\n      <td></td>\n      <td></td>\n      <td>1</td>\n      <td></td>\n      <td></td>\n    </tr>\n    <tr>\n      <th>178</th>\n      <td>Uruguay</td>\n      <td></td>\n      <td></td>\n      <td>1</td>\n      <td></td>\n      <td></td>\n    </tr>\n    <tr>\n      <th>179</th>\n      <td>Uzbekistan</td>\n      <td></td>\n      <td></td>\n      <td>1</td>\n      <td></td>\n      <td></td>\n    </tr>\n    <tr>\n      <th>180</th>\n      <td>Venezuela</td>\n      <td></td>\n      <td></td>\n      <td>1</td>\n      <td></td>\n      <td></td>\n    </tr>\n    <tr>\n      <th>181</th>\n      <td>Vietnam</td>\n      <td></td>\n      <td></td>\n      <td>1</td>\n      <td></td>\n      <td></td>\n    </tr>\n    <tr>\n      <th>182</th>\n      <td>West Bank and Gaza</td>\n      <td></td>\n      <td></td>\n      <td>1</td>\n      <td></td>\n      <td></td>\n    </tr>\n    <tr>\n      <th>183</th>\n      <td>Western Sahara</td>\n      <td></td>\n      <td></td>\n      <td>1</td>\n      <td></td>\n      <td></td>\n    </tr>\n    <tr>\n      <th>184</th>\n      <td>Yemen</td>\n      <td></td>\n      <td></td>\n      <td>1</td>\n      <td></td>\n      <td></td>\n    </tr>\n    <tr>\n      <th>185</th>\n      <td>Zambia</td>\n      <td></td>\n      <td></td>\n      <td>1</td>\n      <td></td>\n      <td></td>\n    </tr>\n    <tr>\n      <th>186</th>\n      <td>Zimbabwe</td>\n      <td></td>\n      <td></td>\n      <td>1</td>\n      <td></td>\n      <td></td>\n    </tr>\n  </tbody>\n</table>\n</div>"
     },
     "metadata": {},
     "execution_count": 34
    }
   ],
   "source": [
    "pd.set_option('max_rows', None)\n",
    "result.head(187)"
   ]
  },
  {
   "cell_type": "code",
   "execution_count": null,
   "metadata": {},
   "outputs": [],
   "source": []
  }
 ],
 "metadata": {
  "kernelspec": {
   "name": "python383jvsc74a57bd01baa965d5efe3ac65b79dfc60c0d706280b1da80fedb7760faf2759126c4f253",
   "display_name": "Python 3.8.3 64-bit"
  },
  "language_info": {
   "codemirror_mode": {
    "name": "ipython",
    "version": 3
   },
   "file_extension": ".py",
   "mimetype": "text/x-python",
   "name": "python",
   "nbconvert_exporter": "python",
   "pygments_lexer": "ipython3",
   "version": "3.8.3"
  },
  "metadata": {
   "interpreter": {
    "hash": "1baa965d5efe3ac65b79dfc60c0d706280b1da80fedb7760faf2759126c4f253"
   }
  }
 },
 "nbformat": 4,
 "nbformat_minor": 4
}